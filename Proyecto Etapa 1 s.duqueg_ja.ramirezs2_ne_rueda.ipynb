{
 "cells": [
  {
   "cell_type": "markdown",
   "id": "4da2e6c5-c785-4f0f-afe5-21adb1babb78",
   "metadata": {},
   "source": [
    "# Proyecto - Etapa 1 - Inteligencia de Negocios\n",
    "* Sofía Duque Gómez - 201922178\n",
    "* Nicolás Rueda Rincón - 202013496\n",
    "* Javier Ramírez Silva - 201821781"
   ]
  },
  {
   "cell_type": "markdown",
   "id": "363918ea-56f4-4dc0-9555-55848d4c42e8",
   "metadata": {
    "tags": []
   },
   "source": [
    "## Descripción del caso\n",
    "\n",
    "La Analítica de Textos (AT) es un campo interdisciplinario que conjuga el aprendizaje de automático (machine learning) y el Procesamiento de Lenguaje Natural, y que tiene como objetivo procesar de manera automática grandes cantidades de textos para la extracción de conocimiento que apoye la toma de decisiones. El proyecto a realizar tiene comentarios de películas en español, que deben ser clasificadas en las categorías de positivo y negativo."
   ]
  },
  {
   "cell_type": "markdown",
   "id": "17ca3e01-a667-4fee-87b8-b10974366f2f",
   "metadata": {},
   "source": [
    "## 0. Objetivos generales y específicos\n",
    "\n",
    "* ### Objetivo General\n",
    "    * Fortalecer las competencias necesarias para una aplicación efectiva del proceso de descubrimiento de conocimiento a partir de textos, guiado por una metodología propia del mundo de la analítica.\n",
    "\n",
    "* ### Objetivos Específicos\n",
    "    * Aplicar la metodología de analítica de textos para la construcción de soluciones de analítica alineadas con los objetivos del negocio en un contexto de aplicación.\n",
    "    * Interactuar con un grupo interdisciplinario para validar y mejorar la calidad de la solución analítica planteada."
   ]
  },
  {
   "cell_type": "markdown",
   "id": "2cb126eb-558f-4774-83d4-d33da8f0e9a0",
   "metadata": {},
   "source": [
    "## 1. Entendimiento del negocio y enfoque analítico\n",
    "En esta etapa se definirán los objetivos y criterios de éxito desde el punto de vista del negocio. Se determinará el enfoque analítico para alcanzar los objetivos del negocio y se profundizará en cómo el requerimiento de negocio es resuelto por el enfoque analítico propuesto.\n",
    "\n",
    "| Concepto | Descripción\n",
    "| ---- | ---- |\n",
    "| Oportunidad / Problema negocio | El negocio desea desarrollar un modelo que a partir de los datos compartidos de reseñas de películas ensamble el uso de aprendizaje automático y procesamiento del lenguaje natural para procesar grandes cantidades de reseñas y clasificarlas en las categorías de positivo y negativo. El conjunto de datos está compuesto por 5000 entradas, una columna numérica con el id de la reseña ('id') y dos columnas categóricas, la reseña en español ('review_es') y el sentimiento relacionado a esa reseña ('sentimiento').|\n",
    "| Enfoque analítico | Desde el punto de vista de aprendizaje automático, el requerimiento de este proyecto consiste en el análisis de sentimientos de películas a partir de un conjunto de datos en donde se tiene comentarios de películas en español, los cuales deben ser clasificadas en las categorías de positivo o negativo. Esta clasificación se realiza para determinar la actitud emocional de un texto y de esa manera poder tomar decisiones en base a esa clasificación.|\n",
    "| Organización y rol dentro de ella que se beneficia con la oportunidad definida | Las organizaciones que se encargan de la realización de las películas, puesto que a partir de la solución a la oportunidad definida les permite saber si las películas que realizaron cuentan con una buena aceptación por parte del público. Además de ello, las organizaciones encargadas del manejo de las reseñas y críticas de las películas podrían desarrollar indicadores de agrado en función de las reseñas en vez de pedirle a los usuarios su puntación en una escala numérica. |\n",
    "| Técnicas y algoritmos a utilizar | El tipo de aprendizaje a utilizar será supervisado con tareas de aprendizaje de regresión y clasificación. Para la tarea de regresión se van a usar los algoritmos de regresión lineal simple y de regresión logística, por otro lado, para la tarea de clasificación se utilizarán los algoritmos de Naïve Bayes, Support Vector Machines y Random Forest. Lo mencionado anteriormente permite solucionar la problemática planteada por el negocio, debido a que las tareas en conjunto con los algoritmos seleccionados son ideales para realizar análisis de sentimientos permitiendo mediante el procesamiento del lenguaje natural y el análisis de texto la identificación y extracción de la actitud de un interlocutor ante cierto tema, en este caso, películas. |"
   ]
  },
  {
   "cell_type": "markdown",
   "id": "5a038be3-c17e-40a8-9887-df9d888603c5",
   "metadata": {},
   "source": [
    "## 2. Entendimiento y preparación de los datos \n",
    "\n",
    "### 2.1. Entendimiento de los datos\n",
    "\n",
    "En este notebook se abordan dos aspectos importantes para el entendimiento de un conjunto de datos, buscando responder a las necesidades de una empresa en términos de análisis de información:\n",
    "\n",
    "* 2.1.1. Exploración y perfilamiento de datos\n",
    "    * 2.1.1.1. Carga\n",
    "    * 2.1.1.2. Descripción básica\n",
    "    * 2.1.1.3. Visualización\n",
    "    * 2.1.1.4. Perfilamiento\n",
    "<br>\n",
    "* 2.1.2. Calidad de datos e ideas de preparación\n",
    "  * 2.1.2.1. Completitud\n",
    "  * 2.1.2.2. Unicidad / Duplicidad\n",
    "  * 2.1.2.3. Validez / Estandarizacón"
   ]
  },
  {
   "cell_type": "markdown",
   "id": "2cddb590-2057-499c-958c-857009674fbc",
   "metadata": {
    "tags": []
   },
   "source": [
    "#### Los datos\n",
    "Se trabaja con un conjunto de datos de información de reseñas de películas en español junto con el sentimiento asociado a esa reseña. El conjunto de datos original contiene 5000 entradas de datos de la información previamente mencionada. "
   ]
  },
  {
   "cell_type": "markdown",
   "id": "afd42892-2d6b-473e-ab07-84de11753a2b",
   "metadata": {},
   "source": [
    "#### Importación de librerías \n",
    "\n",
    "Previo a el entendimiento de los datos, se hace necesario importar las librerías y herramientas necesarias para desarrollar el caso de uso."
   ]
  },
  {
   "cell_type": "code",
   "execution_count": 1,
   "id": "7d4f12ab-782b-48e0-8b00-47736d69dafe",
   "metadata": {},
   "outputs": [
    {
     "name": "stdout",
     "output_type": "stream",
     "text": [
      "Requirement already satisfied: pandas-profiling==2.7.1 in /Users/javierramirez/anaconda3/lib/python3.10/site-packages (2.7.1)\n",
      "Requirement already satisfied: requests>=2.23.0 in /Users/javierramirez/anaconda3/lib/python3.10/site-packages (from pandas-profiling==2.7.1) (2.28.1)\n",
      "Requirement already satisfied: missingno>=0.4.2 in /Users/javierramirez/anaconda3/lib/python3.10/site-packages (from pandas-profiling==2.7.1) (0.5.2)\n",
      "Requirement already satisfied: confuse>=1.0.0 in /Users/javierramirez/anaconda3/lib/python3.10/site-packages (from pandas-profiling==2.7.1) (2.0.1)\n",
      "Requirement already satisfied: visions[type_image_path]==0.4.1 in /Users/javierramirez/anaconda3/lib/python3.10/site-packages (from pandas-profiling==2.7.1) (0.4.1)\n",
      "Requirement already satisfied: tangled-up-in-unicode>=0.0.4 in /Users/javierramirez/anaconda3/lib/python3.10/site-packages (from pandas-profiling==2.7.1) (0.2.0)\n",
      "Requirement already satisfied: matplotlib>=3.2.0 in /Users/javierramirez/anaconda3/lib/python3.10/site-packages (from pandas-profiling==2.7.1) (3.7.0)\n",
      "Requirement already satisfied: numpy>=1.16.0 in /Users/javierramirez/anaconda3/lib/python3.10/site-packages (from pandas-profiling==2.7.1) (1.23.5)\n",
      "Requirement already satisfied: jinja2>=2.11.1 in /Users/javierramirez/anaconda3/lib/python3.10/site-packages (from pandas-profiling==2.7.1) (3.1.2)\n",
      "Requirement already satisfied: ipywidgets>=7.5.1 in /Users/javierramirez/anaconda3/lib/python3.10/site-packages (from pandas-profiling==2.7.1) (7.6.5)\n",
      "Requirement already satisfied: joblib in /Users/javierramirez/anaconda3/lib/python3.10/site-packages (from pandas-profiling==2.7.1) (1.1.1)\n",
      "Requirement already satisfied: astropy>=4.0 in /Users/javierramirez/anaconda3/lib/python3.10/site-packages (from pandas-profiling==2.7.1) (5.1)\n",
      "Requirement already satisfied: pandas!=1.0.0,!=1.0.1,!=1.0.2,>=0.25.3 in /Users/javierramirez/anaconda3/lib/python3.10/site-packages (from pandas-profiling==2.7.1) (1.5.3)\n",
      "Requirement already satisfied: scipy>=1.4.1 in /Users/javierramirez/anaconda3/lib/python3.10/site-packages (from pandas-profiling==2.7.1) (1.10.0)\n",
      "Requirement already satisfied: phik>=0.9.10 in /Users/javierramirez/anaconda3/lib/python3.10/site-packages (from pandas-profiling==2.7.1) (0.12.3)\n",
      "Requirement already satisfied: tqdm>=4.43.0 in /Users/javierramirez/anaconda3/lib/python3.10/site-packages (from pandas-profiling==2.7.1) (4.64.1)\n",
      "Requirement already satisfied: htmlmin>=0.1.12 in /Users/javierramirez/anaconda3/lib/python3.10/site-packages (from pandas-profiling==2.7.1) (0.1.12)\n",
      "Requirement already satisfied: networkx>=2.4 in /Users/javierramirez/anaconda3/lib/python3.10/site-packages (from visions[type_image_path]==0.4.1->pandas-profiling==2.7.1) (2.8.4)\n",
      "Requirement already satisfied: attrs>=19.3.0 in /Users/javierramirez/anaconda3/lib/python3.10/site-packages (from visions[type_image_path]==0.4.1->pandas-profiling==2.7.1) (22.1.0)\n",
      "Requirement already satisfied: Pillow in /Users/javierramirez/anaconda3/lib/python3.10/site-packages (from visions[type_image_path]==0.4.1->pandas-profiling==2.7.1) (9.4.0)\n",
      "Requirement already satisfied: imagehash in /Users/javierramirez/anaconda3/lib/python3.10/site-packages (from visions[type_image_path]==0.4.1->pandas-profiling==2.7.1) (4.3.1)\n",
      "Requirement already satisfied: packaging>=19.0 in /Users/javierramirez/anaconda3/lib/python3.10/site-packages (from astropy>=4.0->pandas-profiling==2.7.1) (22.0)\n",
      "Requirement already satisfied: pyerfa>=2.0 in /Users/javierramirez/anaconda3/lib/python3.10/site-packages (from astropy>=4.0->pandas-profiling==2.7.1) (2.0.0)\n",
      "Requirement already satisfied: PyYAML>=3.13 in /Users/javierramirez/anaconda3/lib/python3.10/site-packages (from astropy>=4.0->pandas-profiling==2.7.1) (6.0)\n",
      "Requirement already satisfied: nbformat>=4.2.0 in /Users/javierramirez/anaconda3/lib/python3.10/site-packages (from ipywidgets>=7.5.1->pandas-profiling==2.7.1) (5.7.0)\n",
      "Requirement already satisfied: ipython>=4.0.0 in /Users/javierramirez/anaconda3/lib/python3.10/site-packages (from ipywidgets>=7.5.1->pandas-profiling==2.7.1) (8.10.0)\n",
      "Requirement already satisfied: traitlets>=4.3.1 in /Users/javierramirez/anaconda3/lib/python3.10/site-packages (from ipywidgets>=7.5.1->pandas-profiling==2.7.1) (5.7.1)\n",
      "Requirement already satisfied: ipython-genutils~=0.2.0 in /Users/javierramirez/anaconda3/lib/python3.10/site-packages (from ipywidgets>=7.5.1->pandas-profiling==2.7.1) (0.2.0)\n",
      "Requirement already satisfied: widgetsnbextension~=3.5.0 in /Users/javierramirez/anaconda3/lib/python3.10/site-packages (from ipywidgets>=7.5.1->pandas-profiling==2.7.1) (3.5.2)\n",
      "Requirement already satisfied: jupyterlab-widgets>=1.0.0 in /Users/javierramirez/anaconda3/lib/python3.10/site-packages (from ipywidgets>=7.5.1->pandas-profiling==2.7.1) (1.0.0)\n",
      "Requirement already satisfied: ipykernel>=4.5.1 in /Users/javierramirez/anaconda3/lib/python3.10/site-packages (from ipywidgets>=7.5.1->pandas-profiling==2.7.1) (6.19.2)\n",
      "Requirement already satisfied: MarkupSafe>=2.0 in /Users/javierramirez/anaconda3/lib/python3.10/site-packages (from jinja2>=2.11.1->pandas-profiling==2.7.1) (2.1.1)\n",
      "Requirement already satisfied: kiwisolver>=1.0.1 in /Users/javierramirez/anaconda3/lib/python3.10/site-packages (from matplotlib>=3.2.0->pandas-profiling==2.7.1) (1.4.4)\n",
      "Requirement already satisfied: python-dateutil>=2.7 in /Users/javierramirez/anaconda3/lib/python3.10/site-packages (from matplotlib>=3.2.0->pandas-profiling==2.7.1) (2.8.2)\n",
      "Requirement already satisfied: cycler>=0.10 in /Users/javierramirez/anaconda3/lib/python3.10/site-packages (from matplotlib>=3.2.0->pandas-profiling==2.7.1) (0.11.0)\n",
      "Requirement already satisfied: contourpy>=1.0.1 in /Users/javierramirez/anaconda3/lib/python3.10/site-packages (from matplotlib>=3.2.0->pandas-profiling==2.7.1) (1.0.5)\n",
      "Requirement already satisfied: pyparsing>=2.3.1 in /Users/javierramirez/anaconda3/lib/python3.10/site-packages (from matplotlib>=3.2.0->pandas-profiling==2.7.1) (3.0.9)\n",
      "Requirement already satisfied: fonttools>=4.22.0 in /Users/javierramirez/anaconda3/lib/python3.10/site-packages (from matplotlib>=3.2.0->pandas-profiling==2.7.1) (4.25.0)\n",
      "Requirement already satisfied: seaborn in /Users/javierramirez/anaconda3/lib/python3.10/site-packages (from missingno>=0.4.2->pandas-profiling==2.7.1) (0.12.2)\n",
      "Requirement already satisfied: pytz>=2020.1 in /Users/javierramirez/anaconda3/lib/python3.10/site-packages (from pandas!=1.0.0,!=1.0.1,!=1.0.2,>=0.25.3->pandas-profiling==2.7.1) (2022.7)\n",
      "Requirement already satisfied: certifi>=2017.4.17 in /Users/javierramirez/anaconda3/lib/python3.10/site-packages (from requests>=2.23.0->pandas-profiling==2.7.1) (2022.12.7)\n",
      "Requirement already satisfied: urllib3<1.27,>=1.21.1 in /Users/javierramirez/anaconda3/lib/python3.10/site-packages (from requests>=2.23.0->pandas-profiling==2.7.1) (1.26.14)\n",
      "Requirement already satisfied: charset-normalizer<3,>=2 in /Users/javierramirez/anaconda3/lib/python3.10/site-packages (from requests>=2.23.0->pandas-profiling==2.7.1) (2.0.4)\n",
      "Requirement already satisfied: idna<4,>=2.5 in /Users/javierramirez/anaconda3/lib/python3.10/site-packages (from requests>=2.23.0->pandas-profiling==2.7.1) (3.4)\n",
      "Requirement already satisfied: appnope in /Users/javierramirez/anaconda3/lib/python3.10/site-packages (from ipykernel>=4.5.1->ipywidgets>=7.5.1->pandas-profiling==2.7.1) (0.1.2)\n",
      "Requirement already satisfied: jupyter-client>=6.1.12 in /Users/javierramirez/anaconda3/lib/python3.10/site-packages (from ipykernel>=4.5.1->ipywidgets>=7.5.1->pandas-profiling==2.7.1) (7.3.4)\n",
      "Requirement already satisfied: tornado>=6.1 in /Users/javierramirez/anaconda3/lib/python3.10/site-packages (from ipykernel>=4.5.1->ipywidgets>=7.5.1->pandas-profiling==2.7.1) (6.1)\n",
      "Requirement already satisfied: nest-asyncio in /Users/javierramirez/anaconda3/lib/python3.10/site-packages (from ipykernel>=4.5.1->ipywidgets>=7.5.1->pandas-profiling==2.7.1) (1.5.6)\n",
      "Requirement already satisfied: psutil in /Users/javierramirez/anaconda3/lib/python3.10/site-packages (from ipykernel>=4.5.1->ipywidgets>=7.5.1->pandas-profiling==2.7.1) (5.9.0)\n",
      "Requirement already satisfied: comm>=0.1.1 in /Users/javierramirez/anaconda3/lib/python3.10/site-packages (from ipykernel>=4.5.1->ipywidgets>=7.5.1->pandas-profiling==2.7.1) (0.1.2)\n",
      "Requirement already satisfied: matplotlib-inline>=0.1 in /Users/javierramirez/anaconda3/lib/python3.10/site-packages (from ipykernel>=4.5.1->ipywidgets>=7.5.1->pandas-profiling==2.7.1) (0.1.6)\n",
      "Requirement already satisfied: debugpy>=1.0 in /Users/javierramirez/anaconda3/lib/python3.10/site-packages (from ipykernel>=4.5.1->ipywidgets>=7.5.1->pandas-profiling==2.7.1) (1.5.1)\n",
      "Requirement already satisfied: pyzmq>=17 in /Users/javierramirez/anaconda3/lib/python3.10/site-packages (from ipykernel>=4.5.1->ipywidgets>=7.5.1->pandas-profiling==2.7.1) (23.2.0)\n",
      "Requirement already satisfied: backcall in /Users/javierramirez/anaconda3/lib/python3.10/site-packages (from ipython>=4.0.0->ipywidgets>=7.5.1->pandas-profiling==2.7.1) (0.2.0)\n",
      "Requirement already satisfied: pexpect>4.3 in /Users/javierramirez/anaconda3/lib/python3.10/site-packages (from ipython>=4.0.0->ipywidgets>=7.5.1->pandas-profiling==2.7.1) (4.8.0)\n",
      "Requirement already satisfied: stack-data in /Users/javierramirez/anaconda3/lib/python3.10/site-packages (from ipython>=4.0.0->ipywidgets>=7.5.1->pandas-profiling==2.7.1) (0.2.0)\n",
      "Requirement already satisfied: decorator in /Users/javierramirez/anaconda3/lib/python3.10/site-packages (from ipython>=4.0.0->ipywidgets>=7.5.1->pandas-profiling==2.7.1) (5.1.1)\n",
      "Requirement already satisfied: jedi>=0.16 in /Users/javierramirez/anaconda3/lib/python3.10/site-packages (from ipython>=4.0.0->ipywidgets>=7.5.1->pandas-profiling==2.7.1) (0.18.1)\n",
      "Requirement already satisfied: prompt-toolkit<3.1.0,>=3.0.30 in /Users/javierramirez/anaconda3/lib/python3.10/site-packages (from ipython>=4.0.0->ipywidgets>=7.5.1->pandas-profiling==2.7.1) (3.0.36)\n",
      "Requirement already satisfied: pickleshare in /Users/javierramirez/anaconda3/lib/python3.10/site-packages (from ipython>=4.0.0->ipywidgets>=7.5.1->pandas-profiling==2.7.1) (0.7.5)\n",
      "Requirement already satisfied: pygments>=2.4.0 in /Users/javierramirez/anaconda3/lib/python3.10/site-packages (from ipython>=4.0.0->ipywidgets>=7.5.1->pandas-profiling==2.7.1) (2.11.2)\n",
      "Requirement already satisfied: jupyter-core in /Users/javierramirez/anaconda3/lib/python3.10/site-packages (from nbformat>=4.2.0->ipywidgets>=7.5.1->pandas-profiling==2.7.1) (5.2.0)\n",
      "Requirement already satisfied: fastjsonschema in /Users/javierramirez/anaconda3/lib/python3.10/site-packages (from nbformat>=4.2.0->ipywidgets>=7.5.1->pandas-profiling==2.7.1) (2.16.2)\n",
      "Requirement already satisfied: jsonschema>=2.6 in /Users/javierramirez/anaconda3/lib/python3.10/site-packages (from nbformat>=4.2.0->ipywidgets>=7.5.1->pandas-profiling==2.7.1) (4.17.3)\n",
      "Requirement already satisfied: six>=1.5 in /Users/javierramirez/anaconda3/lib/python3.10/site-packages (from python-dateutil>=2.7->matplotlib>=3.2.0->pandas-profiling==2.7.1) (1.16.0)\n",
      "Requirement already satisfied: notebook>=4.4.1 in /Users/javierramirez/anaconda3/lib/python3.10/site-packages (from widgetsnbextension~=3.5.0->ipywidgets>=7.5.1->pandas-profiling==2.7.1) (6.5.2)\n",
      "Requirement already satisfied: PyWavelets in /Users/javierramirez/anaconda3/lib/python3.10/site-packages (from imagehash->visions[type_image_path]==0.4.1->pandas-profiling==2.7.1) (1.4.1)\n",
      "Requirement already satisfied: parso<0.9.0,>=0.8.0 in /Users/javierramirez/anaconda3/lib/python3.10/site-packages (from jedi>=0.16->ipython>=4.0.0->ipywidgets>=7.5.1->pandas-profiling==2.7.1) (0.8.3)\n",
      "Requirement already satisfied: pyrsistent!=0.17.0,!=0.17.1,!=0.17.2,>=0.14.0 in /Users/javierramirez/anaconda3/lib/python3.10/site-packages (from jsonschema>=2.6->nbformat>=4.2.0->ipywidgets>=7.5.1->pandas-profiling==2.7.1) (0.18.0)\n",
      "Requirement already satisfied: entrypoints in /Users/javierramirez/anaconda3/lib/python3.10/site-packages (from jupyter-client>=6.1.12->ipykernel>=4.5.1->ipywidgets>=7.5.1->pandas-profiling==2.7.1) (0.4)\n",
      "Requirement already satisfied: platformdirs>=2.5 in /Users/javierramirez/anaconda3/lib/python3.10/site-packages (from jupyter-core->nbformat>=4.2.0->ipywidgets>=7.5.1->pandas-profiling==2.7.1) (2.5.2)\n",
      "Requirement already satisfied: prometheus-client in /Users/javierramirez/anaconda3/lib/python3.10/site-packages (from notebook>=4.4.1->widgetsnbextension~=3.5.0->ipywidgets>=7.5.1->pandas-profiling==2.7.1) (0.14.1)\n",
      "Requirement already satisfied: argon2-cffi in /Users/javierramirez/anaconda3/lib/python3.10/site-packages (from notebook>=4.4.1->widgetsnbextension~=3.5.0->ipywidgets>=7.5.1->pandas-profiling==2.7.1) (21.3.0)\n",
      "Requirement already satisfied: nbclassic>=0.4.7 in /Users/javierramirez/anaconda3/lib/python3.10/site-packages (from notebook>=4.4.1->widgetsnbextension~=3.5.0->ipywidgets>=7.5.1->pandas-profiling==2.7.1) (0.5.2)\n",
      "Requirement already satisfied: terminado>=0.8.3 in /Users/javierramirez/anaconda3/lib/python3.10/site-packages (from notebook>=4.4.1->widgetsnbextension~=3.5.0->ipywidgets>=7.5.1->pandas-profiling==2.7.1) (0.17.1)\n",
      "Requirement already satisfied: nbconvert>=5 in /Users/javierramirez/anaconda3/lib/python3.10/site-packages (from notebook>=4.4.1->widgetsnbextension~=3.5.0->ipywidgets>=7.5.1->pandas-profiling==2.7.1) (6.5.4)\n",
      "Requirement already satisfied: Send2Trash>=1.8.0 in /Users/javierramirez/anaconda3/lib/python3.10/site-packages (from notebook>=4.4.1->widgetsnbextension~=3.5.0->ipywidgets>=7.5.1->pandas-profiling==2.7.1) (1.8.0)\n",
      "Requirement already satisfied: ptyprocess>=0.5 in /Users/javierramirez/anaconda3/lib/python3.10/site-packages (from pexpect>4.3->ipython>=4.0.0->ipywidgets>=7.5.1->pandas-profiling==2.7.1) (0.7.0)\n",
      "Requirement already satisfied: wcwidth in /Users/javierramirez/anaconda3/lib/python3.10/site-packages (from prompt-toolkit<3.1.0,>=3.0.30->ipython>=4.0.0->ipywidgets>=7.5.1->pandas-profiling==2.7.1) (0.2.5)\n",
      "Requirement already satisfied: pure-eval in /Users/javierramirez/anaconda3/lib/python3.10/site-packages (from stack-data->ipython>=4.0.0->ipywidgets>=7.5.1->pandas-profiling==2.7.1) (0.2.2)\n",
      "Requirement already satisfied: asttokens in /Users/javierramirez/anaconda3/lib/python3.10/site-packages (from stack-data->ipython>=4.0.0->ipywidgets>=7.5.1->pandas-profiling==2.7.1) (2.0.5)\n",
      "Requirement already satisfied: executing in /Users/javierramirez/anaconda3/lib/python3.10/site-packages (from stack-data->ipython>=4.0.0->ipywidgets>=7.5.1->pandas-profiling==2.7.1) (0.8.3)\n",
      "Requirement already satisfied: jupyter-server>=1.8 in /Users/javierramirez/anaconda3/lib/python3.10/site-packages (from nbclassic>=0.4.7->notebook>=4.4.1->widgetsnbextension~=3.5.0->ipywidgets>=7.5.1->pandas-profiling==2.7.1) (1.23.4)\n",
      "Requirement already satisfied: notebook-shim>=0.1.0 in /Users/javierramirez/anaconda3/lib/python3.10/site-packages (from nbclassic>=0.4.7->notebook>=4.4.1->widgetsnbextension~=3.5.0->ipywidgets>=7.5.1->pandas-profiling==2.7.1) (0.2.2)\n",
      "Requirement already satisfied: nbclient>=0.5.0 in /Users/javierramirez/anaconda3/lib/python3.10/site-packages (from nbconvert>=5->notebook>=4.4.1->widgetsnbextension~=3.5.0->ipywidgets>=7.5.1->pandas-profiling==2.7.1) (0.5.13)\n",
      "Requirement already satisfied: jupyterlab-pygments in /Users/javierramirez/anaconda3/lib/python3.10/site-packages (from nbconvert>=5->notebook>=4.4.1->widgetsnbextension~=3.5.0->ipywidgets>=7.5.1->pandas-profiling==2.7.1) (0.1.2)\n",
      "Requirement already satisfied: bleach in /Users/javierramirez/anaconda3/lib/python3.10/site-packages (from nbconvert>=5->notebook>=4.4.1->widgetsnbextension~=3.5.0->ipywidgets>=7.5.1->pandas-profiling==2.7.1) (4.1.0)\n",
      "Requirement already satisfied: beautifulsoup4 in /Users/javierramirez/anaconda3/lib/python3.10/site-packages (from nbconvert>=5->notebook>=4.4.1->widgetsnbextension~=3.5.0->ipywidgets>=7.5.1->pandas-profiling==2.7.1) (4.11.1)\n",
      "Requirement already satisfied: mistune<2,>=0.8.1 in /Users/javierramirez/anaconda3/lib/python3.10/site-packages (from nbconvert>=5->notebook>=4.4.1->widgetsnbextension~=3.5.0->ipywidgets>=7.5.1->pandas-profiling==2.7.1) (0.8.4)\n",
      "Requirement already satisfied: defusedxml in /Users/javierramirez/anaconda3/lib/python3.10/site-packages (from nbconvert>=5->notebook>=4.4.1->widgetsnbextension~=3.5.0->ipywidgets>=7.5.1->pandas-profiling==2.7.1) (0.7.1)\n",
      "Requirement already satisfied: pandocfilters>=1.4.1 in /Users/javierramirez/anaconda3/lib/python3.10/site-packages (from nbconvert>=5->notebook>=4.4.1->widgetsnbextension~=3.5.0->ipywidgets>=7.5.1->pandas-profiling==2.7.1) (1.5.0)\n",
      "Requirement already satisfied: tinycss2 in /Users/javierramirez/anaconda3/lib/python3.10/site-packages (from nbconvert>=5->notebook>=4.4.1->widgetsnbextension~=3.5.0->ipywidgets>=7.5.1->pandas-profiling==2.7.1) (1.2.1)\n",
      "Requirement already satisfied: lxml in /Users/javierramirez/anaconda3/lib/python3.10/site-packages (from nbconvert>=5->notebook>=4.4.1->widgetsnbextension~=3.5.0->ipywidgets>=7.5.1->pandas-profiling==2.7.1) (4.9.1)\n",
      "Requirement already satisfied: argon2-cffi-bindings in /Users/javierramirez/anaconda3/lib/python3.10/site-packages (from argon2-cffi->notebook>=4.4.1->widgetsnbextension~=3.5.0->ipywidgets>=7.5.1->pandas-profiling==2.7.1) (21.2.0)\n",
      "Requirement already satisfied: websocket-client in /Users/javierramirez/anaconda3/lib/python3.10/site-packages (from jupyter-server>=1.8->nbclassic>=0.4.7->notebook>=4.4.1->widgetsnbextension~=3.5.0->ipywidgets>=7.5.1->pandas-profiling==2.7.1) (0.58.0)\n",
      "Requirement already satisfied: anyio<4,>=3.1.0 in /Users/javierramirez/anaconda3/lib/python3.10/site-packages (from jupyter-server>=1.8->nbclassic>=0.4.7->notebook>=4.4.1->widgetsnbextension~=3.5.0->ipywidgets>=7.5.1->pandas-profiling==2.7.1) (3.5.0)\n",
      "Requirement already satisfied: cffi>=1.0.1 in /Users/javierramirez/anaconda3/lib/python3.10/site-packages (from argon2-cffi-bindings->argon2-cffi->notebook>=4.4.1->widgetsnbextension~=3.5.0->ipywidgets>=7.5.1->pandas-profiling==2.7.1) (1.15.1)\n",
      "Requirement already satisfied: soupsieve>1.2 in /Users/javierramirez/anaconda3/lib/python3.10/site-packages (from beautifulsoup4->nbconvert>=5->notebook>=4.4.1->widgetsnbextension~=3.5.0->ipywidgets>=7.5.1->pandas-profiling==2.7.1) (2.3.2.post1)\n",
      "Requirement already satisfied: webencodings in /Users/javierramirez/anaconda3/lib/python3.10/site-packages (from bleach->nbconvert>=5->notebook>=4.4.1->widgetsnbextension~=3.5.0->ipywidgets>=7.5.1->pandas-profiling==2.7.1) (0.5.1)\n",
      "Requirement already satisfied: sniffio>=1.1 in /Users/javierramirez/anaconda3/lib/python3.10/site-packages (from anyio<4,>=3.1.0->jupyter-server>=1.8->nbclassic>=0.4.7->notebook>=4.4.1->widgetsnbextension~=3.5.0->ipywidgets>=7.5.1->pandas-profiling==2.7.1) (1.2.0)\n",
      "Requirement already satisfied: pycparser in /Users/javierramirez/anaconda3/lib/python3.10/site-packages (from cffi>=1.0.1->argon2-cffi-bindings->argon2-cffi->notebook>=4.4.1->widgetsnbextension~=3.5.0->ipywidgets>=7.5.1->pandas-profiling==2.7.1) (2.21)\n"
     ]
    }
   ],
   "source": [
    "!pip install pandas-profiling==2.7.1"
   ]
  },
  {
   "cell_type": "code",
   "execution_count": 2,
   "id": "9e00fe20-a154-4f17-b5b7-59c27735688a",
   "metadata": {},
   "outputs": [
    {
     "name": "stdout",
     "output_type": "stream",
     "text": [
      "Requirement already satisfied: langdetect in /Users/javierramirez/anaconda3/lib/python3.10/site-packages (1.0.9)\n",
      "Requirement already satisfied: six in /Users/javierramirez/anaconda3/lib/python3.10/site-packages (from langdetect) (1.16.0)\n"
     ]
    }
   ],
   "source": [
    "!pip install langdetect"
   ]
  },
  {
   "cell_type": "code",
   "execution_count": 3,
   "id": "cadd58fd-40a4-41ac-aa63-a545c6da8091",
   "metadata": {},
   "outputs": [],
   "source": [
    "import pandas as pd\n",
    "import numpy as np\n",
    "import joblib\n",
    "import seaborn as sns; sns.set()\n",
    "import nltk\n",
    "import re, string, unicodedata\n",
    "\n",
    "from nltk import word_tokenize, sent_tokenize\n",
    "from nltk.corpus import stopwords\n",
    "from nltk.stem import LancasterStemmer, WordNetLemmatizer\n",
    "from nltk.stem.snowball import SpanishStemmer\n",
    "\n",
    "from sklearn import metrics\n",
    "from sklearn.model_selection import train_test_split,GridSearchCV\n",
    "from sklearn.feature_extraction.text import TfidfVectorizer, CountVectorizer, HashingVectorizer\n",
    "from sklearn.pipeline import Pipeline, FeatureUnion\n",
    "from sklearn.svm import SVC\n",
    "from sklearn.ensemble import BaggingClassifier, RandomForestClassifier, AdaBoostClassifier\n",
    "from sklearn.naive_bayes import BernoulliNB\n",
    "from sklearn.metrics import classification_report, confusion_matrix, mean_squared_error, mean_absolute_error, r2_score\n",
    "from sklearn.base import BaseEstimator, ClassifierMixin\n",
    "from sklearn.linear_model import LinearRegression, LogisticRegression, SGDClassifier\n",
    "from sklearn.feature_extraction.text import CountVectorizer, TfidfTransformer\n",
    "from sklearn.naive_bayes import MultinomialNB\n",
    "from sklearn.datasets import make_classification\n",
    "\n",
    "import matplotlib as mplt\n",
    "import matplotlib.pyplot as plt\n",
    "import seaborn as sns \n",
    "from sklearn import tree\n",
    "import pickle\n",
    "from langdetect import detect"
   ]
  },
  {
   "cell_type": "code",
   "execution_count": 4,
   "id": "1ebdd912-5ad5-40d6-97c7-5cc6ba3be5a9",
   "metadata": {},
   "outputs": [
    {
     "name": "stderr",
     "output_type": "stream",
     "text": [
      "[nltk_data] Downloading package punkt to\n",
      "[nltk_data]     /Users/javierramirez/nltk_data...\n",
      "[nltk_data]   Package punkt is already up-to-date!\n"
     ]
    },
    {
     "data": {
      "text/plain": [
       "True"
      ]
     },
     "execution_count": 4,
     "metadata": {},
     "output_type": "execute_result"
    }
   ],
   "source": [
    "nltk.download('punkt')"
   ]
  },
  {
   "cell_type": "code",
   "execution_count": 5,
   "id": "9ebac60a-7702-4f4f-8a8e-af56d5958fe6",
   "metadata": {},
   "outputs": [
    {
     "name": "stderr",
     "output_type": "stream",
     "text": [
      "[nltk_data] Downloading package stopwords to\n",
      "[nltk_data]     /Users/javierramirez/nltk_data...\n",
      "[nltk_data]   Package stopwords is already up-to-date!\n"
     ]
    },
    {
     "data": {
      "text/plain": [
       "True"
      ]
     },
     "execution_count": 5,
     "metadata": {},
     "output_type": "execute_result"
    }
   ],
   "source": [
    "nltk.download('stopwords')"
   ]
  },
  {
   "cell_type": "code",
   "execution_count": 6,
   "id": "d3fe1740-1f08-4d17-9900-45e3fc1c2878",
   "metadata": {},
   "outputs": [
    {
     "name": "stderr",
     "output_type": "stream",
     "text": [
      "[nltk_data] Downloading package wordnet to\n",
      "[nltk_data]     /Users/javierramirez/nltk_data...\n",
      "[nltk_data]   Package wordnet is already up-to-date!\n"
     ]
    },
    {
     "data": {
      "text/plain": [
       "True"
      ]
     },
     "execution_count": 6,
     "metadata": {},
     "output_type": "execute_result"
    }
   ],
   "source": [
    "nltk.download('wordnet')"
   ]
  },
  {
   "cell_type": "code",
   "execution_count": 7,
   "id": "dbc712d7-097a-463c-8e31-770ffd02a4f6",
   "metadata": {},
   "outputs": [],
   "source": [
    "pd.set_option('display.max_columns', None) # Número máximo de columnas a mostrar\n",
    "pd.set_option('display.max_rows', 200) # Numero máximo de filas a mostar"
   ]
  },
  {
   "cell_type": "markdown",
   "id": "7efe9c74-358c-48ab-bdd5-abea62676538",
   "metadata": {
    "tags": []
   },
   "source": [
    "### 2.1.1. Exploración y Perfilamiento de datos"
   ]
  },
  {
   "cell_type": "markdown",
   "id": "f6b28517-d8bb-4d8c-a0cb-77ed67755641",
   "metadata": {
    "tags": []
   },
   "source": [
    "#### 2.1.1.1. Carga de los datos\n",
    "* La carga de los datos se realiza desde de un archivo CSV y se almacena en una estructuras de datos de Pandas conocida como dataframe.\n",
    "* Se utiliza encoding ISO-8859-1 con el fin de poder importar los datos con tíldes y otras estructuras propias del idioma español.\n",
    "* El separador del archivo de los datos es ','."
   ]
  },
  {
   "cell_type": "code",
   "execution_count": 8,
   "id": "11e6789b-e5d3-496f-9d62-e9608ef8f15f",
   "metadata": {},
   "outputs": [],
   "source": [
    "df = pd.read_csv('./MovieReviews.csv', encoding = \"ISO-8859-1\", sep = ',')\n",
    "# Se elimina las columnas 'Unnamed' que pueden surgir en ciertas ocasiones\n",
    "df = df.loc[:, ~df.columns.str.contains('^Unnamed')]"
   ]
  },
  {
   "cell_type": "markdown",
   "id": "7d659e72-f101-4147-b73b-7c2447087261",
   "metadata": {},
   "source": [
    "#### 2.1.1.2. Descripción básica"
   ]
  },
  {
   "cell_type": "code",
   "execution_count": 9,
   "id": "e49a500a-b7ea-4d57-9497-445c1a207772",
   "metadata": {},
   "outputs": [
    {
     "data": {
      "text/plain": [
       "(5000, 2)"
      ]
     },
     "execution_count": 9,
     "metadata": {},
     "output_type": "execute_result"
    }
   ],
   "source": [
    "# Dimensiones del dataframe\n",
    "df.shape"
   ]
  },
  {
   "cell_type": "markdown",
   "id": "0e42a619-b6bc-484b-a5f9-184e97e0eda1",
   "metadata": {},
   "source": [
    "En primera instancia se quiere entender los datos que proporciona la empresa. Por esto se les solicita que se entregue el diccionario de datos y en base a los datos y el diccionario se tiene buena información para comenzar. El conjunto de datos está compuesto por 5000 entradas, una columna numérica con el id de la reseña ('id') y dos columnas categóricas, la reseña en español ('review_es') y el sentimiento relacionado a esa reseña ('sentimiento') que puede ser positivo o negativo.\n",
    "\n",
    "A continuación se previsualiza una muestra aleatoria de los datos:"
   ]
  },
  {
   "cell_type": "code",
   "execution_count": 10,
   "id": "33d67e30-ece7-4bc2-aa0d-6e1057c7bf9a",
   "metadata": {},
   "outputs": [
    {
     "data": {
      "text/html": [
       "<div>\n",
       "<style scoped>\n",
       "    .dataframe tbody tr th:only-of-type {\n",
       "        vertical-align: middle;\n",
       "    }\n",
       "\n",
       "    .dataframe tbody tr th {\n",
       "        vertical-align: top;\n",
       "    }\n",
       "\n",
       "    .dataframe thead th {\n",
       "        text-align: right;\n",
       "    }\n",
       "</style>\n",
       "<table border=\"1\" class=\"dataframe\">\n",
       "  <thead>\n",
       "    <tr style=\"text-align: right;\">\n",
       "      <th></th>\n",
       "      <th>review_es</th>\n",
       "      <th>sentimiento</th>\n",
       "    </tr>\n",
       "  </thead>\n",
       "  <tbody>\n",
       "    <tr>\n",
       "      <th>1880</th>\n",
       "      <td>If you want just about everything you want to ...</td>\n",
       "      <td>positivo</td>\n",
       "    </tr>\n",
       "    <tr>\n",
       "      <th>3286</th>\n",
       "      <td>Why do I hate this? Let me list the ways:I hav...</td>\n",
       "      <td>negativo</td>\n",
       "    </tr>\n",
       "    <tr>\n",
       "      <th>4232</th>\n",
       "      <td>Ho hum.Solo otro movimiento con Steven Seagal ...</td>\n",
       "      <td>negativo</td>\n",
       "    </tr>\n",
       "    <tr>\n",
       "      <th>4521</th>\n",
       "      <td>Pobre Diane Arbus (quienquiera que ella fuera)...</td>\n",
       "      <td>negativo</td>\n",
       "    </tr>\n",
       "    <tr>\n",
       "      <th>1103</th>\n",
       "      <td>Escribo esto después de ver la última transmis...</td>\n",
       "      <td>positivo</td>\n",
       "    </tr>\n",
       "  </tbody>\n",
       "</table>\n",
       "</div>"
      ],
      "text/plain": [
       "                                              review_es sentimiento\n",
       "1880  If you want just about everything you want to ...    positivo\n",
       "3286  Why do I hate this? Let me list the ways:I hav...    negativo\n",
       "4232  Ho hum.Solo otro movimiento con Steven Seagal ...    negativo\n",
       "4521  Pobre Diane Arbus (quienquiera que ella fuera)...    negativo\n",
       "1103  Escribo esto después de ver la última transmis...    positivo"
      ]
     },
     "execution_count": 10,
     "metadata": {},
     "output_type": "execute_result"
    }
   ],
   "source": [
    "# Impresión de algunos registros del dataframe\n",
    "df.sample(5) # Muestra aleatoria\n",
    "# df.head(5) # Primeras Filas\n",
    "# df.tail(5) # Ultimas Filas"
   ]
  },
  {
   "cell_type": "markdown",
   "id": "775a3f09-8782-436c-aff7-828e6ab300bd",
   "metadata": {},
   "source": [
    "#### Columnas numéricas\n",
    "Las columnas numéricas del conjunto de datos son:\n",
    "\n",
    "| Variable | Tipo | Descripcion | Valores posibles\n",
    "| --- | --- | --- | --- |\n",
    "| id | Numérica | Identificador de la reseña | Enteros positivos (int) |"
   ]
  },
  {
   "cell_type": "markdown",
   "id": "5f36faa0-cf6f-46be-a9bb-2bebb0a19a90",
   "metadata": {},
   "source": [
    "#### Columnas categóricas\n",
    "Las columnas categóricas del conjunto de datos son:\n",
    "\n",
    "| Variable | Tipo | Descripcion | Valores posibles\n",
    "| --- | --- | --- | --- |\n",
    "| review_es | Categórica | Revisión en español | texto |\n",
    "| sentimiento | Categórica | Sentimiento asociado a la película | {positivo, negativo} |"
   ]
  },
  {
   "cell_type": "markdown",
   "id": "13538b6b-0688-4eb2-bedb-29ea893c5de0",
   "metadata": {},
   "source": [
    "#### 2.1.1.3. Visualización\n",
    "\n",
    "Vemos la distribución de los sentimientos asociados a las reseñas:"
   ]
  },
  {
   "cell_type": "code",
   "execution_count": 11,
   "id": "22f4c7f8-b736-45e9-9c91-6bd0cfad62ef",
   "metadata": {},
   "outputs": [
    {
     "data": {
      "text/plain": [
       "<Axes: >"
      ]
     },
     "execution_count": 11,
     "metadata": {},
     "output_type": "execute_result"
    },
    {
     "data": {
      "image/png": "[encoded data removed]",
      "text/plain": [
       "<Figure size 640x480 with 1 Axes>"
      ]
     },
     "metadata": {},
     "output_type": "display_data"
    }
   ],
   "source": [
    "df[\"sentimiento\"].value_counts().plot(kind='bar')"
   ]
  },
  {
   "cell_type": "markdown",
   "id": "5af2206f-3fcb-4a22-ad83-348da11561dd",
   "metadata": {},
   "source": [
    "Vemos que existen el mismo número de reseñas con sentimientos negativos y positivos asociados."
   ]
  },
  {
   "cell_type": "markdown",
   "id": "a608642f-58c9-44f8-bf3c-0d7c41275cdd",
   "metadata": {},
   "source": [
    "#### 2.1.1.4. Perfilamiento\n",
    "A continuación se presenta el tipo de dato asociado a cada columna del set de datos junto con su cuenta de no-nulos:"
   ]
  },
  {
   "cell_type": "code",
   "execution_count": 12,
   "id": "17a0d216-2e78-40fb-80d7-2fb4cfd106e8",
   "metadata": {},
   "outputs": [
    {
     "name": "stdout",
     "output_type": "stream",
     "text": [
      "<class 'pandas.core.frame.DataFrame'>\n",
      "RangeIndex: 5000 entries, 0 to 4999\n",
      "Data columns (total 2 columns):\n",
      " #   Column       Non-Null Count  Dtype \n",
      "---  ------       --------------  ----- \n",
      " 0   review_es    5000 non-null   object\n",
      " 1   sentimiento  5000 non-null   object\n",
      "dtypes: object(2)\n",
      "memory usage: 78.2+ KB\n"
     ]
    }
   ],
   "source": [
    "# Impresión del tipo de dato asociado a cada columna y su cuenta de no nulos\n",
    "df.info()"
   ]
  },
  {
   "cell_type": "markdown",
   "id": "bd566459-f2f8-4897-ba6c-1c7a5211b687",
   "metadata": {},
   "source": [
    "Vemos que los tipos de datos son correctos y que todas las entradas son no-nulas."
   ]
  },
  {
   "cell_type": "markdown",
   "id": "eed3a2fb-006c-4a0d-80c2-a6b06bb12c1d",
   "metadata": {},
   "source": [
    "Calculamos las estadísticas principales de las columnas categóricas."
   ]
  },
  {
   "cell_type": "code",
   "execution_count": 13,
   "id": "4e7fe968-e1cd-4d28-b8bb-6e84b00e5166",
   "metadata": {},
   "outputs": [
    {
     "data": {
      "text/html": [
       "<div>\n",
       "<style scoped>\n",
       "    .dataframe tbody tr th:only-of-type {\n",
       "        vertical-align: middle;\n",
       "    }\n",
       "\n",
       "    .dataframe tbody tr th {\n",
       "        vertical-align: top;\n",
       "    }\n",
       "\n",
       "    .dataframe thead th {\n",
       "        text-align: right;\n",
       "    }\n",
       "</style>\n",
       "<table border=\"1\" class=\"dataframe\">\n",
       "  <thead>\n",
       "    <tr style=\"text-align: right;\">\n",
       "      <th></th>\n",
       "      <th>review_es</th>\n",
       "      <th>sentimiento</th>\n",
       "    </tr>\n",
       "  </thead>\n",
       "  <tbody>\n",
       "    <tr>\n",
       "      <th>count</th>\n",
       "      <td>5000</td>\n",
       "      <td>5000</td>\n",
       "    </tr>\n",
       "    <tr>\n",
       "      <th>unique</th>\n",
       "      <td>4998</td>\n",
       "      <td>2</td>\n",
       "    </tr>\n",
       "    <tr>\n",
       "      <th>top</th>\n",
       "      <td>Después de ver a Meredith en \"Más allá de la p...</td>\n",
       "      <td>positivo</td>\n",
       "    </tr>\n",
       "    <tr>\n",
       "      <th>freq</th>\n",
       "      <td>2</td>\n",
       "      <td>2500</td>\n",
       "    </tr>\n",
       "  </tbody>\n",
       "</table>\n",
       "</div>"
      ],
      "text/plain": [
       "                                                review_es sentimiento\n",
       "count                                                5000        5000\n",
       "unique                                               4998           2\n",
       "top     Después de ver a Meredith en \"Más allá de la p...    positivo\n",
       "freq                                                    2        2500"
      ]
     },
     "execution_count": 13,
     "metadata": {},
     "output_type": "execute_result"
    }
   ],
   "source": [
    "df.describe()"
   ]
  },
  {
   "cell_type": "markdown",
   "id": "c80d027d-56d6-4d7a-a575-b21812e722ee",
   "metadata": {},
   "source": [
    "* En el caso de la columna 'review_es' se observa que de las 5000 entradas, 4998 son únicas, por lo cual se deben eliminar las reseñas repetidas. Además de ello, en la preparación de los datos se debe asegurar que todas las reseñas sean en español.\n",
    "* Vemos que no existen problemas de conformidad en la variable sentimiento, ya que como se puede evidenciar con el .describe() y con el gráfico de barras con la distribución de valores de esta columna, los únicos valores son positivo y negativo."
   ]
  },
  {
   "cell_type": "markdown",
   "id": "3e066396-e3bb-430b-95a7-f615842df518",
   "metadata": {},
   "source": [
    "### 2.1.2. Calidad de datos e ideas de preparación"
   ]
  },
  {
   "cell_type": "markdown",
   "id": "75c9214c-aa6f-4e3a-b362-0e07c78df5c7",
   "metadata": {},
   "source": [
    "#### 2.1.2.1. Completitud\n",
    "Verificamos que no haya ausencias en el conjunto de datos."
   ]
  },
  {
   "cell_type": "code",
   "execution_count": 14,
   "id": "51297cde-0702-4b48-a262-e7dc9bc425f4",
   "metadata": {},
   "outputs": [
    {
     "data": {
      "text/plain": [
       "review_es      0.0\n",
       "sentimiento    0.0\n",
       "dtype: float64"
      ]
     },
     "execution_count": 14,
     "metadata": {},
     "output_type": "execute_result"
    }
   ],
   "source": [
    "# ¿Hay ausencias?\n",
    "df.isna().sum()/len(df)"
   ]
  },
  {
   "cell_type": "markdown",
   "id": "8e170e9d-d5b5-4f60-ba42-5517f8635f81",
   "metadata": {},
   "source": [
    "Verificamos que no hay ausencias en las columnas del conjunto de datos, por lo que se verificó la completitud de los mismos."
   ]
  },
  {
   "cell_type": "markdown",
   "id": "13faacd2-ebee-41a0-b119-94f936fc545f",
   "metadata": {},
   "source": [
    "#### 2.1.2.2. Unicidad / Duplicidad"
   ]
  },
  {
   "cell_type": "markdown",
   "id": "184d1d2c-cce5-4bc5-acb6-d26d7e9c89f8",
   "metadata": {},
   "source": [
    "Para la verificación de unicidad de los datos, localizaremos las entradas duplicadas en la columna 'review_es'."
   ]
  },
  {
   "cell_type": "markdown",
   "id": "86b22000-4f9c-424a-aadc-e9e1fbb0d140",
   "metadata": {},
   "source": [
    "Revisamos si hay valores duplicados:"
   ]
  },
  {
   "cell_type": "code",
   "execution_count": 15,
   "id": "99d55a6c-2430-4de4-90f7-3aa5394150f2",
   "metadata": {},
   "outputs": [
    {
     "data": {
      "text/plain": [
       "count                                                  5000\n",
       "unique                                                 4998\n",
       "top       Después de ver a Meredith en \"Más allá de la p...\n",
       "freq                                                      2\n",
       "Name: review_es, dtype: object"
      ]
     },
     "execution_count": 15,
     "metadata": {},
     "output_type": "execute_result"
    }
   ],
   "source": [
    "df['review_es'].describe()"
   ]
  },
  {
   "cell_type": "markdown",
   "id": "13fb0f96-a752-47a3-b19a-8152c436c971",
   "metadata": {},
   "source": [
    "Vemos que existen 4998 valores únicos y vemos que la frecuencia de unos de los valores repetidos es 2, por lo cual concluimos que dos reseñas se encuentran repetidas con una frecuencia de 2 cada una. Esto se corregirá en la etapa de preparación de los datos."
   ]
  },
  {
   "cell_type": "markdown",
   "id": "a22bc832-bca2-4778-b67b-35ad22b9f559",
   "metadata": {},
   "source": [
    "#### 2.1.2.3. Validez / Estandarización"
   ]
  },
  {
   "cell_type": "markdown",
   "id": "cc6aa15c-d0a4-4cb1-93ee-6c3545fd56f9",
   "metadata": {},
   "source": [
    "Revisamos la validez de los valores en las columnas:"
   ]
  },
  {
   "cell_type": "code",
   "execution_count": 16,
   "id": "3603a91c-ce88-4c87-8cb1-d31e3f595dcb",
   "metadata": {},
   "outputs": [
    {
     "data": {
      "text/plain": [
       "count         5000\n",
       "unique           2\n",
       "top       positivo\n",
       "freq          2500\n",
       "Name: sentimiento, dtype: object"
      ]
     },
     "execution_count": 16,
     "metadata": {},
     "output_type": "execute_result"
    }
   ],
   "source": [
    "df['sentimiento'].describe()"
   ]
  },
  {
   "cell_type": "markdown",
   "id": "c786f446-a0ca-4a4e-b2cf-9df199852267",
   "metadata": {},
   "source": [
    "Vemos que no existen problemas de conformidad en la variable sentimiento, ya que los únicos valores son positivo y negativo."
   ]
  },
  {
   "cell_type": "code",
   "execution_count": 17,
   "id": "72a20e6b-9c02-446e-8370-4bb107735462",
   "metadata": {},
   "outputs": [
    {
     "data": {
      "text/plain": [
       "count                                                  5000\n",
       "unique                                                 4998\n",
       "top       Después de ver a Meredith en \"Más allá de la p...\n",
       "freq                                                      2\n",
       "Name: review_es, dtype: object"
      ]
     },
     "execution_count": 17,
     "metadata": {},
     "output_type": "execute_result"
    }
   ],
   "source": [
    "df['review_es'].describe()"
   ]
  },
  {
   "cell_type": "markdown",
   "id": "5f08ad47-54a3-49b1-90dc-7678c24af55f",
   "metadata": {},
   "source": [
    "Debemos profundizar más en la columna 'review_es', verificando que todas las reseñas sean en español. Para ello utilizaremos langdetect, añadiendo una nueva columna al dataframe con el lenguaje detectado para la reseña, y posteriormente verificaremos estos valores."
   ]
  },
  {
   "cell_type": "code",
   "execution_count": 18,
   "id": "f4dd31a0-a83e-4f36-8ec1-c8299add067c",
   "metadata": {},
   "outputs": [],
   "source": [
    "def detect_language(text):\n",
    "    try:\n",
    "        lang = detect(text)\n",
    "    except:\n",
    "        lang = 'unknown'\n",
    "    return lang"
   ]
  },
  {
   "cell_type": "code",
   "execution_count": 19,
   "id": "74f1cb0b-046e-4d39-b62c-89fee88ef0a5",
   "metadata": {},
   "outputs": [],
   "source": [
    "df['language'] = df['review_es'].apply(detect_language)"
   ]
  },
  {
   "cell_type": "code",
   "execution_count": 20,
   "id": "e1118318-1b36-4f24-95a9-2b841eb81278",
   "metadata": {},
   "outputs": [
    {
     "data": {
      "text/plain": [
       "count     5000\n",
       "unique       3\n",
       "top         es\n",
       "freq      4803\n",
       "Name: language, dtype: object"
      ]
     },
     "execution_count": 20,
     "metadata": {},
     "output_type": "execute_result"
    }
   ],
   "source": [
    "df[\"language\"].describe()"
   ]
  },
  {
   "cell_type": "code",
   "execution_count": 21,
   "id": "9f56a36c-4a53-4e43-bf86-244c38ec3fec",
   "metadata": {},
   "outputs": [
    {
     "data": {
      "text/plain": [
       "<Axes: >"
      ]
     },
     "execution_count": 21,
     "metadata": {},
     "output_type": "execute_result"
    },
    {
     "data": {
      "image/png": "[encoded data removed]",
      "text/plain": [
       "<Figure size 640x480 with 1 Axes>"
      ]
     },
     "metadata": {},
     "output_type": "display_data"
    }
   ],
   "source": [
    "df[\"language\"].value_counts().plot(kind='bar')"
   ]
  },
  {
   "cell_type": "markdown",
   "id": "a89b1e45-496b-48c8-8de4-d882567a9e63",
   "metadata": {},
   "source": [
    "Vemos que existen reseñas en dos lenguajes diferentes al español, con códigos 'en' y 'id' esto se corregirá en la etapa de preparación de los datos, eliminando los registros cuyo idioma sea diferente al español."
   ]
  },
  {
   "cell_type": "markdown",
   "id": "56b5e8cd-429e-4f4b-a079-66fccf8b4223",
   "metadata": {},
   "source": [
    "### 2.2. Preparación de los datos"
   ]
  },
  {
   "cell_type": "markdown",
   "id": "eda1bc24-3662-4188-bc23-790950205cc4",
   "metadata": {},
   "source": [
    "#### 2.2.1. Corrección de calidad de datos"
   ]
  },
  {
   "cell_type": "markdown",
   "id": "ffef3d28-f4ba-4b11-97d4-53661a0874ea",
   "metadata": {},
   "source": [
    "Corregimos el problema de unicidad descrito anteriormente, manteniendo únicamente la primera entrada cuando se presentan reseñas duplicadas:"
   ]
  },
  {
   "cell_type": "code",
   "execution_count": 22,
   "id": "50e20609-f3ad-440a-afdd-e7af04898561",
   "metadata": {},
   "outputs": [],
   "source": [
    "# Encontramos los valores duplicados en la columna 'review_es'\n",
    "duplicated_rows = df[df.duplicated(subset=['review_es'])]\n",
    "\n",
    "# Eliminamos las filas con duplicados (se mantiene solo la primera entrada única)\n",
    "df = df.drop_duplicates(subset=['review_es'])"
   ]
  },
  {
   "cell_type": "markdown",
   "id": "13dd0ea8-baaa-4324-baed-40fc4410e0cb",
   "metadata": {},
   "source": [
    "Volvemos a verificar la unicidad:"
   ]
  },
  {
   "cell_type": "code",
   "execution_count": 23,
   "id": "e813c48e-a239-4942-9f3d-ca23637019aa",
   "metadata": {},
   "outputs": [
    {
     "data": {
      "text/plain": [
       "count                                                  4998\n",
       "unique                                                 4998\n",
       "top       Si está buscando una película de guerra típica...\n",
       "freq                                                      1\n",
       "Name: review_es, dtype: object"
      ]
     },
     "execution_count": 23,
     "metadata": {},
     "output_type": "execute_result"
    }
   ],
   "source": [
    "df['review_es'].describe()"
   ]
  },
  {
   "cell_type": "markdown",
   "id": "4a9134a9-a455-4b2d-8e00-d9a79c3c6b46",
   "metadata": {},
   "source": [
    "Vemos que quedamos con 4998 registros y todos son únicos. Así nos aseguramos de la unicidad de los datos."
   ]
  },
  {
   "cell_type": "markdown",
   "id": "b75758a1-0902-46df-8408-85c1da9f894f",
   "metadata": {},
   "source": [
    "Corregimos ahora el problema de validez referente al idioma de las reseñas:"
   ]
  },
  {
   "cell_type": "code",
   "execution_count": 24,
   "id": "da99905b-a437-445e-bfe7-fa720462f879",
   "metadata": {},
   "outputs": [],
   "source": [
    "# Drop de las filas donde el lenguaje de la reseña no es español\n",
    "df = df[df['language'] == 'es']"
   ]
  },
  {
   "cell_type": "code",
   "execution_count": 25,
   "id": "6cb7a383-84f1-42b5-8a5e-2011f38b79d0",
   "metadata": {},
   "outputs": [
    {
     "data": {
      "text/plain": [
       "count     4801\n",
       "unique       1\n",
       "top         es\n",
       "freq      4801\n",
       "Name: language, dtype: object"
      ]
     },
     "execution_count": 25,
     "metadata": {},
     "output_type": "execute_result"
    }
   ],
   "source": [
    "#Verificamos que solo queden reseñas con idioma español\n",
    "df['language'].describe()"
   ]
  },
  {
   "cell_type": "code",
   "execution_count": 26,
   "id": "5ef56edc-173b-4a36-8aa3-8bf2e4c30022",
   "metadata": {},
   "outputs": [],
   "source": [
    "# Drop de la columna lenguaje ya que no la necesitaremos más.\n",
    "df = df.drop('language', axis=1)"
   ]
  },
  {
   "cell_type": "markdown",
   "id": "72e0ba49-d0b2-4fdd-b451-4e71ee44f44a",
   "metadata": {},
   "source": [
    "#### 2.2.2. Definición de funciones de NLP para limpiar datos"
   ]
  },
  {
   "cell_type": "code",
   "execution_count": 27,
   "id": "bf599b34-547b-4e9f-8860-8f64f55c9467",
   "metadata": {},
   "outputs": [],
   "source": [
    "# Definimos funciones para limpiar los datos:\n",
    "\n",
    "def replace_punctuation(review):\n",
    "    \"\"\"Replace punctuation with space\"\"\"\n",
    "    return re.sub(r\"\"\"\n",
    "               [,.;@#?!&$]+  # Accept one or more copies of punctuation\n",
    "               \\ *           # plus zero or more copies of a space,\n",
    "               \"\"\",\n",
    "               \" \",          # and replace it with a single space\n",
    "               review, flags=re.VERBOSE)\n",
    "\n",
    "def to_lowercase(words):\n",
    "    \"\"\"Convert all characters to lowercase from list of tokenized words\"\"\"\n",
    "    new_words = []\n",
    "    for word in words:\n",
    "        new_words.append(word.lower())\n",
    "    return new_words\n",
    "\n",
    "def remove_punctuation(words):\n",
    "    \"\"\"Remove punctuation from list of tokenized words\"\"\"\n",
    "    new_words = []\n",
    "    for word in words:\n",
    "        new_word = re.sub(r'[^\\w\\s]', '', word)\n",
    "        if new_word != '':\n",
    "            new_words.append(new_word)\n",
    "    return new_words\n",
    "\n",
    "def replace_numbers(words):\n",
    "    \"\"\"Replace all interger occurrences in list of tokenized words with textual representation\"\"\"\n",
    "    p = inflect.engine()\n",
    "    new_words = []\n",
    "    for word in words:\n",
    "        if word.isdigit():\n",
    "            new_word = p.number_to_words(word)\n",
    "            new_words.append(new_word)\n",
    "        else:\n",
    "            new_words.append(word)\n",
    "    return new_words\n",
    "\n",
    "def remove_stopwords(words):\n",
    "    \"\"\"Remove stop words from list of tokenized words\"\"\"\n",
    "    stop_words = set(stopwords.words('spanish'))\n",
    "    new_words = []\n",
    "    for word in words:\n",
    "        if word not in stop_words:\n",
    "            new_words.append(word)\n",
    "    return new_words\n",
    "\n",
    "def replace_spanish_words(words):\n",
    "    \"\"\"Cambiar palabras tildadas por sus equivalentes sin tildes\"\"\"\n",
    "    new_words = []\n",
    "    replacements = (\n",
    "        (\"á\", \"a\"),\n",
    "        (\"é\", \"e\"),\n",
    "        (\"í\", \"i\"),\n",
    "        (\"ó\", \"o\"),\n",
    "        (\"ú\", \"u\"),\n",
    "    )\n",
    "    for word in words:\n",
    "        new_word = word\n",
    "        for a, b in replacements:\n",
    "            new_word = new_word.replace(a, b).replace(a.upper(), b.upper())\n",
    "        new_words.append(new_word)\n",
    "    return new_words\n",
    "    \n",
    "def preprocessing(words):\n",
    "    words = to_lowercase(words)\n",
    "    # No se utiliza replace_numbers debido a su falta de compatibilidad con el español\n",
    "    # words = replace_numbers(words)\n",
    "    words = remove_punctuation(words)\n",
    "    words = remove_stopwords(words)\n",
    "    words = replace_spanish_words(words)\n",
    "    return words"
   ]
  },
  {
   "cell_type": "markdown",
   "id": "0f0699ad-65e8-48ee-8f59-4800f94876ba",
   "metadata": {},
   "source": [
    "#### 2.2.3 Tokenización\n",
    "La tokenización permite dividir frases u oraciones en palabras. Con el fin de desglozar las palabras correctamente para el posterior análisis. A continuación se tokeniza cada reseña y se aplica el preprocessing definido anteriormente."
   ]
  },
  {
   "cell_type": "code",
   "execution_count": 28,
   "id": "4d49249d-85ae-4d7c-afe9-331c10615dd8",
   "metadata": {},
   "outputs": [],
   "source": [
    "df['words'] = df['review_es'].apply(replace_punctuation).apply(word_tokenize).apply(preprocessing) #Aplica la eliminación del ruido"
   ]
  },
  {
   "cell_type": "code",
   "execution_count": 29,
   "id": "ad2f37da-ff27-410b-a7b0-c02b53c5330d",
   "metadata": {},
   "outputs": [
    {
     "data": {
      "text/html": [
       "<div>\n",
       "<style scoped>\n",
       "    .dataframe tbody tr th:only-of-type {\n",
       "        vertical-align: middle;\n",
       "    }\n",
       "\n",
       "    .dataframe tbody tr th {\n",
       "        vertical-align: top;\n",
       "    }\n",
       "\n",
       "    .dataframe thead th {\n",
       "        text-align: right;\n",
       "    }\n",
       "</style>\n",
       "<table border=\"1\" class=\"dataframe\">\n",
       "  <thead>\n",
       "    <tr style=\"text-align: right;\">\n",
       "      <th></th>\n",
       "      <th>review_es</th>\n",
       "      <th>sentimiento</th>\n",
       "      <th>words</th>\n",
       "    </tr>\n",
       "  </thead>\n",
       "  <tbody>\n",
       "    <tr>\n",
       "      <th>2292</th>\n",
       "      <td>es genial, me encantó, porque amo los dinosaur...</td>\n",
       "      <td>positivo</td>\n",
       "      <td>[genial, encanto, amo, dinosaurios, animales, ...</td>\n",
       "    </tr>\n",
       "    <tr>\n",
       "      <th>554</th>\n",
       "      <td>La película de David Lynch's (1999) de John Ro...</td>\n",
       "      <td>positivo</td>\n",
       "      <td>[pelicula, david, lynch, s, 1999, john, roach,...</td>\n",
       "    </tr>\n",
       "    <tr>\n",
       "      <th>886</th>\n",
       "      <td>En la película de Christian Duguay, Hitler: el...</td>\n",
       "      <td>positivo</td>\n",
       "      <td>[pelicula, christian, duguay, hitler, auge, ma...</td>\n",
       "    </tr>\n",
       "    <tr>\n",
       "      <th>3432</th>\n",
       "      <td>Si le gustaba a William Hickey en \"El honor de...</td>\n",
       "      <td>negativo</td>\n",
       "      <td>[si, gustaba, william, hickey, honor, prizzi, ...</td>\n",
       "    </tr>\n",
       "    <tr>\n",
       "      <th>3364</th>\n",
       "      <td>Aquí hay una revisión para personas como yo. E...</td>\n",
       "      <td>negativo</td>\n",
       "      <td>[aqui, revision, personas, pelicula, chupa, pr...</td>\n",
       "    </tr>\n",
       "    <tr>\n",
       "      <th>2550</th>\n",
       "      <td>Tengo esto en la maldición de DVD 10 Pack de l...</td>\n",
       "      <td>negativo</td>\n",
       "      <td>[maldicion, dvd, 10, pack, muertos, amar, paqu...</td>\n",
       "    </tr>\n",
       "    <tr>\n",
       "      <th>1370</th>\n",
       "      <td>Una comedia que funcionó sorprendentemente bie...</td>\n",
       "      <td>positivo</td>\n",
       "      <td>[comedia, funciono, sorprendentemente, bien, p...</td>\n",
       "    </tr>\n",
       "    <tr>\n",
       "      <th>4024</th>\n",
       "      <td>¡Esta es una película extremadamente tonta y p...</td>\n",
       "      <td>negativo</td>\n",
       "      <td>[pelicula, extremadamente, tonta, pequeña, esc...</td>\n",
       "    </tr>\n",
       "    <tr>\n",
       "      <th>3670</th>\n",
       "      <td>Qué bomba atómica de una película.La historia ...</td>\n",
       "      <td>negativo</td>\n",
       "      <td>[bomba, atomica, pelicula, historia, va, ningu...</td>\n",
       "    </tr>\n",
       "    <tr>\n",
       "      <th>2239</th>\n",
       "      <td>Claro, se volvió rápidamente desigual después ...</td>\n",
       "      <td>positivo</td>\n",
       "      <td>[claro, volvio, rapidamente, desigual, despues...</td>\n",
       "    </tr>\n",
       "    <tr>\n",
       "      <th>4566</th>\n",
       "      <td>Esta es una película muy mala.Me reí una o dos...</td>\n",
       "      <td>negativo</td>\n",
       "      <td>[pelicula, mala, rei, dos, veces, historia, ch...</td>\n",
       "    </tr>\n",
       "    <tr>\n",
       "      <th>1259</th>\n",
       "      <td>Grandes artistas, siempre sufridos mientras er...</td>\n",
       "      <td>positivo</td>\n",
       "      <td>[grandes, artistas, siempre, sufridos, mientra...</td>\n",
       "    </tr>\n",
       "    <tr>\n",
       "      <th>3492</th>\n",
       "      <td>Tenía ganas de ver esta película y, por lo tan...</td>\n",
       "      <td>negativo</td>\n",
       "      <td>[ganas, ver, pelicula, extremadamente, decepci...</td>\n",
       "    </tr>\n",
       "    <tr>\n",
       "      <th>1261</th>\n",
       "      <td>Había visto 'Kalifornia' antes (debe ser hace ...</td>\n",
       "      <td>positivo</td>\n",
       "      <td>[visto, kalifornia, debe, ser, hace, 10, años,...</td>\n",
       "    </tr>\n",
       "    <tr>\n",
       "      <th>135</th>\n",
       "      <td>La química entre Sally Hawkins y Elaine Cassid...</td>\n",
       "      <td>positivo</td>\n",
       "      <td>[quimica, sally, hawkins, elaine, cassidy, inc...</td>\n",
       "    </tr>\n",
       "    <tr>\n",
       "      <th>2489</th>\n",
       "      <td>En una época, donde casi todas las grandes pel...</td>\n",
       "      <td>positivo</td>\n",
       "      <td>[epoca, casi, todas, grandes, peliculas, horro...</td>\n",
       "    </tr>\n",
       "    <tr>\n",
       "      <th>4868</th>\n",
       "      <td>Como 'singin' en la lluvia ',' Cover Girl 'tie...</td>\n",
       "      <td>negativo</td>\n",
       "      <td>[singin, lluvia, cover, girl, trio, dos, chico...</td>\n",
       "    </tr>\n",
       "    <tr>\n",
       "      <th>3043</th>\n",
       "      <td>Como una historia de la historia canadiense, l...</td>\n",
       "      <td>negativo</td>\n",
       "      <td>[historia, historia, canadiense, primero, deci...</td>\n",
       "    </tr>\n",
       "    <tr>\n",
       "      <th>720</th>\n",
       "      <td>Esta es una de las mejores películas de la rev...</td>\n",
       "      <td>positivo</td>\n",
       "      <td>[mejores, peliculas, revolucion, francesa, jam...</td>\n",
       "    </tr>\n",
       "    <tr>\n",
       "      <th>994</th>\n",
       "      <td>Vi a esta película recientemente y me enamoré ...</td>\n",
       "      <td>positivo</td>\n",
       "      <td>[vi, pelicula, recientemente, enamore, encanto...</td>\n",
       "    </tr>\n",
       "  </tbody>\n",
       "</table>\n",
       "</div>"
      ],
      "text/plain": [
       "                                              review_es sentimiento  \\\n",
       "2292  es genial, me encantó, porque amo los dinosaur...    positivo   \n",
       "554   La película de David Lynch's (1999) de John Ro...    positivo   \n",
       "886   En la película de Christian Duguay, Hitler: el...    positivo   \n",
       "3432  Si le gustaba a William Hickey en \"El honor de...    negativo   \n",
       "3364  Aquí hay una revisión para personas como yo. E...    negativo   \n",
       "2550  Tengo esto en la maldición de DVD 10 Pack de l...    negativo   \n",
       "1370  Una comedia que funcionó sorprendentemente bie...    positivo   \n",
       "4024  ¡Esta es una película extremadamente tonta y p...    negativo   \n",
       "3670  Qué bomba atómica de una película.La historia ...    negativo   \n",
       "2239  Claro, se volvió rápidamente desigual después ...    positivo   \n",
       "4566  Esta es una película muy mala.Me reí una o dos...    negativo   \n",
       "1259  Grandes artistas, siempre sufridos mientras er...    positivo   \n",
       "3492  Tenía ganas de ver esta película y, por lo tan...    negativo   \n",
       "1261  Había visto 'Kalifornia' antes (debe ser hace ...    positivo   \n",
       "135   La química entre Sally Hawkins y Elaine Cassid...    positivo   \n",
       "2489  En una época, donde casi todas las grandes pel...    positivo   \n",
       "4868  Como 'singin' en la lluvia ',' Cover Girl 'tie...    negativo   \n",
       "3043  Como una historia de la historia canadiense, l...    negativo   \n",
       "720   Esta es una de las mejores películas de la rev...    positivo   \n",
       "994   Vi a esta película recientemente y me enamoré ...    positivo   \n",
       "\n",
       "                                                  words  \n",
       "2292  [genial, encanto, amo, dinosaurios, animales, ...  \n",
       "554   [pelicula, david, lynch, s, 1999, john, roach,...  \n",
       "886   [pelicula, christian, duguay, hitler, auge, ma...  \n",
       "3432  [si, gustaba, william, hickey, honor, prizzi, ...  \n",
       "3364  [aqui, revision, personas, pelicula, chupa, pr...  \n",
       "2550  [maldicion, dvd, 10, pack, muertos, amar, paqu...  \n",
       "1370  [comedia, funciono, sorprendentemente, bien, p...  \n",
       "4024  [pelicula, extremadamente, tonta, pequeña, esc...  \n",
       "3670  [bomba, atomica, pelicula, historia, va, ningu...  \n",
       "2239  [claro, volvio, rapidamente, desigual, despues...  \n",
       "4566  [pelicula, mala, rei, dos, veces, historia, ch...  \n",
       "1259  [grandes, artistas, siempre, sufridos, mientra...  \n",
       "3492  [ganas, ver, pelicula, extremadamente, decepci...  \n",
       "1261  [visto, kalifornia, debe, ser, hace, 10, años,...  \n",
       "135   [quimica, sally, hawkins, elaine, cassidy, inc...  \n",
       "2489  [epoca, casi, todas, grandes, peliculas, horro...  \n",
       "4868  [singin, lluvia, cover, girl, trio, dos, chico...  \n",
       "3043  [historia, historia, canadiense, primero, deci...  \n",
       "720   [mejores, peliculas, revolucion, francesa, jam...  \n",
       "994   [vi, pelicula, recientemente, enamore, encanto...  "
      ]
     },
     "execution_count": 29,
     "metadata": {},
     "output_type": "execute_result"
    }
   ],
   "source": [
    "df.sample(20)"
   ]
  },
  {
   "cell_type": "markdown",
   "id": "6c8631d0-6570-4a60-9acf-4040850335a3",
   "metadata": {},
   "source": [
    "#### 2.2.4 Preparación para algoritmos"
   ]
  },
  {
   "cell_type": "markdown",
   "id": "b8ce60a3-745f-44ba-b77a-711aac5c40df",
   "metadata": {},
   "source": [
    "Mapearemos valores de la variable objetivo sentimiento a números, negativo como 0 y positivo como 1, para así poder aplicar con mayor facilidad los algoritmos a utilizar."
   ]
  },
  {
   "cell_type": "code",
   "execution_count": 30,
   "id": "11dd1a63-286f-493b-a688-e497688ce691",
   "metadata": {},
   "outputs": [],
   "source": [
    "df['sentimiento'] = df['sentimiento'].replace({'negativo': 0, 'positivo': 1})"
   ]
  },
  {
   "cell_type": "code",
   "execution_count": 31,
   "id": "c3de069d-bad8-4174-89fa-07a1f51b0f78",
   "metadata": {},
   "outputs": [
    {
     "name": "stdout",
     "output_type": "stream",
     "text": [
      "<class 'pandas.core.frame.DataFrame'>\n",
      "Int64Index: 4801 entries, 0 to 4999\n",
      "Data columns (total 3 columns):\n",
      " #   Column       Non-Null Count  Dtype \n",
      "---  ------       --------------  ----- \n",
      " 0   review_es    4801 non-null   object\n",
      " 1   sentimiento  4801 non-null   int64 \n",
      " 2   words        4801 non-null   object\n",
      "dtypes: int64(1), object(2)\n",
      "memory usage: 150.0+ KB\n"
     ]
    }
   ],
   "source": [
    "df.info()"
   ]
  },
  {
   "cell_type": "markdown",
   "id": "3e5d83d5-e8a2-46af-afed-515e1345b780",
   "metadata": {},
   "source": [
    "#### 2.2.4.1. Selección de campos"
   ]
  },
  {
   "cell_type": "code",
   "execution_count": 32,
   "id": "07e49dc4-a6c9-4ad8-b409-a7e5f243d4bd",
   "metadata": {},
   "outputs": [
    {
     "data": {
      "text/html": [
       "<div>\n",
       "<style scoped>\n",
       "    .dataframe tbody tr th:only-of-type {\n",
       "        vertical-align: middle;\n",
       "    }\n",
       "\n",
       "    .dataframe tbody tr th {\n",
       "        vertical-align: top;\n",
       "    }\n",
       "\n",
       "    .dataframe thead th {\n",
       "        text-align: right;\n",
       "    }\n",
       "</style>\n",
       "<table border=\"1\" class=\"dataframe\">\n",
       "  <thead>\n",
       "    <tr style=\"text-align: right;\">\n",
       "      <th></th>\n",
       "      <th>review_es</th>\n",
       "      <th>sentimiento</th>\n",
       "      <th>words</th>\n",
       "    </tr>\n",
       "  </thead>\n",
       "  <tbody>\n",
       "    <tr>\n",
       "      <th>0</th>\n",
       "      <td>Si está buscando una película de guerra típica...</td>\n",
       "      <td>1</td>\n",
       "      <td>si buscando pelicula guerra tipica asi nota af...</td>\n",
       "    </tr>\n",
       "    <tr>\n",
       "      <th>1</th>\n",
       "      <td>Supongo que algunos directores de películas de...</td>\n",
       "      <td>1</td>\n",
       "      <td>supongo directores peliculas lujo sentados bus...</td>\n",
       "    </tr>\n",
       "    <tr>\n",
       "      <th>2</th>\n",
       "      <td>Es difícil contarle más sobre esta película si...</td>\n",
       "      <td>1</td>\n",
       "      <td>dificil contarle pelicula estropearla disfrute...</td>\n",
       "    </tr>\n",
       "    <tr>\n",
       "      <th>3</th>\n",
       "      <td>La película comienza muy lentamente, con el es...</td>\n",
       "      <td>1</td>\n",
       "      <td>pelicula comienza lentamente estilo vida walla...</td>\n",
       "    </tr>\n",
       "    <tr>\n",
       "      <th>4</th>\n",
       "      <td>Esta película es verdadera acción en su máxima...</td>\n",
       "      <td>1</td>\n",
       "      <td>pelicula verdadera accion maxima expresion mej...</td>\n",
       "    </tr>\n",
       "    <tr>\n",
       "      <th>...</th>\n",
       "      <td>...</td>\n",
       "      <td>...</td>\n",
       "      <td>...</td>\n",
       "    </tr>\n",
       "    <tr>\n",
       "      <th>4994</th>\n",
       "      <td>Las bonitas visuales y muchas peleas no hacen ...</td>\n",
       "      <td>0</td>\n",
       "      <td>bonitas visuales muchas peleas hacen buena pel...</td>\n",
       "    </tr>\n",
       "    <tr>\n",
       "      <th>4995</th>\n",
       "      <td>\"Criminal decente ordinario\" es triste porque ...</td>\n",
       "      <td>0</td>\n",
       "      <td>criminal decente ordinario triste obviamente t...</td>\n",
       "    </tr>\n",
       "    <tr>\n",
       "      <th>4996</th>\n",
       "      <td>Savage Island (2003) es una película coja.Es m...</td>\n",
       "      <td>0</td>\n",
       "      <td>savage island 2003 pelicula coja video video c...</td>\n",
       "    </tr>\n",
       "    <tr>\n",
       "      <th>4997</th>\n",
       "      <td>Quien escribió el script para esta película no...</td>\n",
       "      <td>0</td>\n",
       "      <td>escribio script pelicula merece trabajar holly...</td>\n",
       "    </tr>\n",
       "    <tr>\n",
       "      <th>4999</th>\n",
       "      <td>Película decepcionante, predecible en la que u...</td>\n",
       "      <td>0</td>\n",
       "      <td>pelicula decepcionante predecible mujer mc tee...</td>\n",
       "    </tr>\n",
       "  </tbody>\n",
       "</table>\n",
       "<p>4801 rows × 3 columns</p>\n",
       "</div>"
      ],
      "text/plain": [
       "                                              review_es  sentimiento  \\\n",
       "0     Si está buscando una película de guerra típica...            1   \n",
       "1     Supongo que algunos directores de películas de...            1   \n",
       "2     Es difícil contarle más sobre esta película si...            1   \n",
       "3     La película comienza muy lentamente, con el es...            1   \n",
       "4     Esta película es verdadera acción en su máxima...            1   \n",
       "...                                                 ...          ...   \n",
       "4994  Las bonitas visuales y muchas peleas no hacen ...            0   \n",
       "4995  \"Criminal decente ordinario\" es triste porque ...            0   \n",
       "4996  Savage Island (2003) es una película coja.Es m...            0   \n",
       "4997  Quien escribió el script para esta película no...            0   \n",
       "4999  Película decepcionante, predecible en la que u...            0   \n",
       "\n",
       "                                                  words  \n",
       "0     si buscando pelicula guerra tipica asi nota af...  \n",
       "1     supongo directores peliculas lujo sentados bus...  \n",
       "2     dificil contarle pelicula estropearla disfrute...  \n",
       "3     pelicula comienza lentamente estilo vida walla...  \n",
       "4     pelicula verdadera accion maxima expresion mej...  \n",
       "...                                                 ...  \n",
       "4994  bonitas visuales muchas peleas hacen buena pel...  \n",
       "4995  criminal decente ordinario triste obviamente t...  \n",
       "4996  savage island 2003 pelicula coja video video c...  \n",
       "4997  escribio script pelicula merece trabajar holly...  \n",
       "4999  pelicula decepcionante predecible mujer mc tee...  \n",
       "\n",
       "[4801 rows x 3 columns]"
      ]
     },
     "execution_count": 32,
     "metadata": {},
     "output_type": "execute_result"
    }
   ],
   "source": [
    "df['words'] = df['words'].apply(lambda x: ' '.join(map(str, x)))\n",
    "df"
   ]
  },
  {
   "cell_type": "markdown",
   "id": "fa08f6d5-5c54-4b98-815d-4e2464c49cec",
   "metadata": {},
   "source": [
    "Separar conjunto de entrenamiento con conjunto de prueba 70%-30%"
   ]
  },
  {
   "cell_type": "code",
   "execution_count": 33,
   "id": "31c7085b-dc96-4325-adb2-239c2ca332c1",
   "metadata": {},
   "outputs": [],
   "source": [
    "X_train, X_test, y_train, y_test = train_test_split(df['words'], df['sentimiento'], test_size = 0.3, random_state = 1)"
   ]
  },
  {
   "cell_type": "markdown",
   "id": "659f24c7-5c5c-423f-bd93-dccf62b81902",
   "metadata": {},
   "source": [
    "## 3. Modelado y evaluación"
   ]
  },
  {
   "cell_type": "markdown",
   "id": "66da391e-bfe2-41a1-bf0f-5588aa564913",
   "metadata": {},
   "source": [
    "### 3.1. Algoritmo de Regresión Lineal Simple"
   ]
  },
  {
   "cell_type": "code",
   "execution_count": 34,
   "id": "ae128730-5588-4bc7-8e4b-308932566795",
   "metadata": {},
   "outputs": [],
   "source": [
    "text_lr = Pipeline([\n",
    "    ('vect', CountVectorizer()),\n",
    "    ('tfidf', TfidfTransformer()),\n",
    "    ('lr', LinearRegression()), ])"
   ]
  },
  {
   "cell_type": "code",
   "execution_count": 35,
   "id": "79acdadf-8964-4066-a50a-e2e6810c7ffe",
   "metadata": {},
   "outputs": [
    {
     "data": {
      "text/html": [
       "<style>#sk-container-id-1 {color: black;background-color: white;}#sk-container-id-1 pre{padding: 0;}#sk-container-id-1 div.sk-toggleable {background-color: white;}#sk-container-id-1 label.sk-toggleable__label {cursor: pointer;display: block;width: 100%;margin-bottom: 0;padding: 0.3em;box-sizing: border-box;text-align: center;}#sk-container-id-1 label.sk-toggleable__label-arrow:before {content: \"▸\";float: left;margin-right: 0.25em;color: #696969;}#sk-container-id-1 label.sk-toggleable__label-arrow:hover:before {color: black;}#sk-container-id-1 div.sk-estimator:hover label.sk-toggleable__label-arrow:before {color: black;}#sk-container-id-1 div.sk-toggleable__content {max-height: 0;max-width: 0;overflow: hidden;text-align: left;background-color: #f0f8ff;}#sk-container-id-1 div.sk-toggleable__content pre {margin: 0.2em;color: black;border-radius: 0.25em;background-color: #f0f8ff;}#sk-container-id-1 input.sk-toggleable__control:checked~div.sk-toggleable__content {max-height: 200px;max-width: 100%;overflow: auto;}#sk-container-id-1 input.sk-toggleable__control:checked~label.sk-toggleable__label-arrow:before {content: \"▾\";}#sk-container-id-1 div.sk-estimator input.sk-toggleable__control:checked~label.sk-toggleable__label {background-color: #d4ebff;}#sk-container-id-1 div.sk-label input.sk-toggleable__control:checked~label.sk-toggleable__label {background-color: #d4ebff;}#sk-container-id-1 input.sk-hidden--visually {border: 0;clip: rect(1px 1px 1px 1px);clip: rect(1px, 1px, 1px, 1px);height: 1px;margin: -1px;overflow: hidden;padding: 0;position: absolute;width: 1px;}#sk-container-id-1 div.sk-estimator {font-family: monospace;background-color: #f0f8ff;border: 1px dotted black;border-radius: 0.25em;box-sizing: border-box;margin-bottom: 0.5em;}#sk-container-id-1 div.sk-estimator:hover {background-color: #d4ebff;}#sk-container-id-1 div.sk-parallel-item::after {content: \"\";width: 100%;border-bottom: 1px solid gray;flex-grow: 1;}#sk-container-id-1 div.sk-label:hover label.sk-toggleable__label {background-color: #d4ebff;}#sk-container-id-1 div.sk-serial::before {content: \"\";position: absolute;border-left: 1px solid gray;box-sizing: border-box;top: 0;bottom: 0;left: 50%;z-index: 0;}#sk-container-id-1 div.sk-serial {display: flex;flex-direction: column;align-items: center;background-color: white;padding-right: 0.2em;padding-left: 0.2em;position: relative;}#sk-container-id-1 div.sk-item {position: relative;z-index: 1;}#sk-container-id-1 div.sk-parallel {display: flex;align-items: stretch;justify-content: center;background-color: white;position: relative;}#sk-container-id-1 div.sk-item::before, #sk-container-id-1 div.sk-parallel-item::before {content: \"\";position: absolute;border-left: 1px solid gray;box-sizing: border-box;top: 0;bottom: 0;left: 50%;z-index: -1;}#sk-container-id-1 div.sk-parallel-item {display: flex;flex-direction: column;z-index: 1;position: relative;background-color: white;}#sk-container-id-1 div.sk-parallel-item:first-child::after {align-self: flex-end;width: 50%;}#sk-container-id-1 div.sk-parallel-item:last-child::after {align-self: flex-start;width: 50%;}#sk-container-id-1 div.sk-parallel-item:only-child::after {width: 0;}#sk-container-id-1 div.sk-dashed-wrapped {border: 1px dashed gray;margin: 0 0.4em 0.5em 0.4em;box-sizing: border-box;padding-bottom: 0.4em;background-color: white;}#sk-container-id-1 div.sk-label label {font-family: monospace;font-weight: bold;display: inline-block;line-height: 1.2em;}#sk-container-id-1 div.sk-label-container {text-align: center;}#sk-container-id-1 div.sk-container {/* jupyter's `normalize.less` sets `[hidden] { display: none; }` but bootstrap.min.css set `[hidden] { display: none !important; }` so we also need the `!important` here to be able to override the default hidden behavior on the sphinx rendered scikit-learn.org. See: https://github.com/scikit-learn/scikit-learn/issues/21755 */display: inline-block !important;position: relative;}#sk-container-id-1 div.sk-text-repr-fallback {display: none;}</style><div id=\"sk-container-id-1\" class=\"sk-top-container\"><div class=\"sk-text-repr-fallback\"><pre>Pipeline(steps=[(&#x27;vect&#x27;, CountVectorizer()), (&#x27;tfidf&#x27;, TfidfTransformer()),\n",
       "                (&#x27;lr&#x27;, LinearRegression())])</pre><b>In a Jupyter environment, please rerun this cell to show the HTML representation or trust the notebook. <br />On GitHub, the HTML representation is unable to render, please try loading this page with nbviewer.org.</b></div><div class=\"sk-container\" hidden><div class=\"sk-item sk-dashed-wrapped\"><div class=\"sk-label-container\"><div class=\"sk-label sk-toggleable\"><input class=\"sk-toggleable__control sk-hidden--visually\" id=\"sk-estimator-id-1\" type=\"checkbox\" ><label for=\"sk-estimator-id-1\" class=\"sk-toggleable__label sk-toggleable__label-arrow\">Pipeline</label><div class=\"sk-toggleable__content\"><pre>Pipeline(steps=[(&#x27;vect&#x27;, CountVectorizer()), (&#x27;tfidf&#x27;, TfidfTransformer()),\n",
       "                (&#x27;lr&#x27;, LinearRegression())])</pre></div></div></div><div class=\"sk-serial\"><div class=\"sk-item\"><div class=\"sk-estimator sk-toggleable\"><input class=\"sk-toggleable__control sk-hidden--visually\" id=\"sk-estimator-id-2\" type=\"checkbox\" ><label for=\"sk-estimator-id-2\" class=\"sk-toggleable__label sk-toggleable__label-arrow\">CountVectorizer</label><div class=\"sk-toggleable__content\"><pre>CountVectorizer()</pre></div></div></div><div class=\"sk-item\"><div class=\"sk-estimator sk-toggleable\"><input class=\"sk-toggleable__control sk-hidden--visually\" id=\"sk-estimator-id-3\" type=\"checkbox\" ><label for=\"sk-estimator-id-3\" class=\"sk-toggleable__label sk-toggleable__label-arrow\">TfidfTransformer</label><div class=\"sk-toggleable__content\"><pre>TfidfTransformer()</pre></div></div></div><div class=\"sk-item\"><div class=\"sk-estimator sk-toggleable\"><input class=\"sk-toggleable__control sk-hidden--visually\" id=\"sk-estimator-id-4\" type=\"checkbox\" ><label for=\"sk-estimator-id-4\" class=\"sk-toggleable__label sk-toggleable__label-arrow\">LinearRegression</label><div class=\"sk-toggleable__content\"><pre>LinearRegression()</pre></div></div></div></div></div></div></div>"
      ],
      "text/plain": [
       "Pipeline(steps=[('vect', CountVectorizer()), ('tfidf', TfidfTransformer()),\n",
       "                ('lr', LinearRegression())])"
      ]
     },
     "execution_count": 35,
     "metadata": {},
     "output_type": "execute_result"
    }
   ],
   "source": [
    "text_lr.fit(X_train, y_train)"
   ]
  },
  {
   "cell_type": "code",
   "execution_count": 36,
   "id": "49bcd17d-0f30-4018-9474-ad5fa2d65392",
   "metadata": {},
   "outputs": [
    {
     "name": "stdout",
     "output_type": "stream",
     "text": [
      "MAE:\n",
      "Train: 3.3839774946538447e-06\n",
      "Test: 0.30641680009746325\n",
      "\n",
      "RMSE:\n",
      "Train: 4.693357597879289e-06\n",
      "Test: 0.37247501439124164\n",
      "\n",
      "R²:\n",
      "Train: 0.9999999999118885\n",
      "Test: 0.44493156999504613\n"
     ]
    }
   ],
   "source": [
    "print('MAE:')\n",
    "print('Train:', mean_absolute_error(y_train, text_lr.predict(X_train)))\n",
    "print('Test:', mean_absolute_error(y_test, text_lr.predict(X_test)))\n",
    "print('\\nRMSE:')\n",
    "print('Train:', np.sqrt(mean_squared_error(y_train, text_lr.predict(X_train))))\n",
    "print('Test:', np.sqrt(mean_squared_error(y_test, text_lr.predict(X_test))))\n",
    "print('\\nR²:')\n",
    "lr_score_train = r2_score(y_train, text_lr.predict(X_train))\n",
    "lr_score_test = r2_score(y_test, text_lr.predict(X_test))\n",
    "print('Train:', lr_score_train)\n",
    "print('Test:', lr_score_test)"
   ]
  },
  {
   "cell_type": "markdown",
   "id": "87b12972-224b-4182-9e45-2dcce8ffcae1",
   "metadata": {},
   "source": [
    "### 3.2. Algoritmo de Regresión Logística"
   ]
  },
  {
   "cell_type": "code",
   "execution_count": 37,
   "id": "346d0a48-85a2-47b5-9331-cc23b1415944",
   "metadata": {},
   "outputs": [],
   "source": [
    "text_logr = Pipeline([\n",
    "    ('vect', CountVectorizer()),\n",
    "    ('tfidf', TfidfTransformer()),\n",
    "    ('logr', LogisticRegression()), ])"
   ]
  },
  {
   "cell_type": "code",
   "execution_count": 38,
   "id": "ea01374c-5f43-4938-b44d-c297e4b8e963",
   "metadata": {},
   "outputs": [
    {
     "data": {
      "text/html": [
       "<style>#sk-container-id-2 {color: black;background-color: white;}#sk-container-id-2 pre{padding: 0;}#sk-container-id-2 div.sk-toggleable {background-color: white;}#sk-container-id-2 label.sk-toggleable__label {cursor: pointer;display: block;width: 100%;margin-bottom: 0;padding: 0.3em;box-sizing: border-box;text-align: center;}#sk-container-id-2 label.sk-toggleable__label-arrow:before {content: \"▸\";float: left;margin-right: 0.25em;color: #696969;}#sk-container-id-2 label.sk-toggleable__label-arrow:hover:before {color: black;}#sk-container-id-2 div.sk-estimator:hover label.sk-toggleable__label-arrow:before {color: black;}#sk-container-id-2 div.sk-toggleable__content {max-height: 0;max-width: 0;overflow: hidden;text-align: left;background-color: #f0f8ff;}#sk-container-id-2 div.sk-toggleable__content pre {margin: 0.2em;color: black;border-radius: 0.25em;background-color: #f0f8ff;}#sk-container-id-2 input.sk-toggleable__control:checked~div.sk-toggleable__content {max-height: 200px;max-width: 100%;overflow: auto;}#sk-container-id-2 input.sk-toggleable__control:checked~label.sk-toggleable__label-arrow:before {content: \"▾\";}#sk-container-id-2 div.sk-estimator input.sk-toggleable__control:checked~label.sk-toggleable__label {background-color: #d4ebff;}#sk-container-id-2 div.sk-label input.sk-toggleable__control:checked~label.sk-toggleable__label {background-color: #d4ebff;}#sk-container-id-2 input.sk-hidden--visually {border: 0;clip: rect(1px 1px 1px 1px);clip: rect(1px, 1px, 1px, 1px);height: 1px;margin: -1px;overflow: hidden;padding: 0;position: absolute;width: 1px;}#sk-container-id-2 div.sk-estimator {font-family: monospace;background-color: #f0f8ff;border: 1px dotted black;border-radius: 0.25em;box-sizing: border-box;margin-bottom: 0.5em;}#sk-container-id-2 div.sk-estimator:hover {background-color: #d4ebff;}#sk-container-id-2 div.sk-parallel-item::after {content: \"\";width: 100%;border-bottom: 1px solid gray;flex-grow: 1;}#sk-container-id-2 div.sk-label:hover label.sk-toggleable__label {background-color: #d4ebff;}#sk-container-id-2 div.sk-serial::before {content: \"\";position: absolute;border-left: 1px solid gray;box-sizing: border-box;top: 0;bottom: 0;left: 50%;z-index: 0;}#sk-container-id-2 div.sk-serial {display: flex;flex-direction: column;align-items: center;background-color: white;padding-right: 0.2em;padding-left: 0.2em;position: relative;}#sk-container-id-2 div.sk-item {position: relative;z-index: 1;}#sk-container-id-2 div.sk-parallel {display: flex;align-items: stretch;justify-content: center;background-color: white;position: relative;}#sk-container-id-2 div.sk-item::before, #sk-container-id-2 div.sk-parallel-item::before {content: \"\";position: absolute;border-left: 1px solid gray;box-sizing: border-box;top: 0;bottom: 0;left: 50%;z-index: -1;}#sk-container-id-2 div.sk-parallel-item {display: flex;flex-direction: column;z-index: 1;position: relative;background-color: white;}#sk-container-id-2 div.sk-parallel-item:first-child::after {align-self: flex-end;width: 50%;}#sk-container-id-2 div.sk-parallel-item:last-child::after {align-self: flex-start;width: 50%;}#sk-container-id-2 div.sk-parallel-item:only-child::after {width: 0;}#sk-container-id-2 div.sk-dashed-wrapped {border: 1px dashed gray;margin: 0 0.4em 0.5em 0.4em;box-sizing: border-box;padding-bottom: 0.4em;background-color: white;}#sk-container-id-2 div.sk-label label {font-family: monospace;font-weight: bold;display: inline-block;line-height: 1.2em;}#sk-container-id-2 div.sk-label-container {text-align: center;}#sk-container-id-2 div.sk-container {/* jupyter's `normalize.less` sets `[hidden] { display: none; }` but bootstrap.min.css set `[hidden] { display: none !important; }` so we also need the `!important` here to be able to override the default hidden behavior on the sphinx rendered scikit-learn.org. See: https://github.com/scikit-learn/scikit-learn/issues/21755 */display: inline-block !important;position: relative;}#sk-container-id-2 div.sk-text-repr-fallback {display: none;}</style><div id=\"sk-container-id-2\" class=\"sk-top-container\"><div class=\"sk-text-repr-fallback\"><pre>Pipeline(steps=[(&#x27;vect&#x27;, CountVectorizer()), (&#x27;tfidf&#x27;, TfidfTransformer()),\n",
       "                (&#x27;logr&#x27;, LogisticRegression())])</pre><b>In a Jupyter environment, please rerun this cell to show the HTML representation or trust the notebook. <br />On GitHub, the HTML representation is unable to render, please try loading this page with nbviewer.org.</b></div><div class=\"sk-container\" hidden><div class=\"sk-item sk-dashed-wrapped\"><div class=\"sk-label-container\"><div class=\"sk-label sk-toggleable\"><input class=\"sk-toggleable__control sk-hidden--visually\" id=\"sk-estimator-id-5\" type=\"checkbox\" ><label for=\"sk-estimator-id-5\" class=\"sk-toggleable__label sk-toggleable__label-arrow\">Pipeline</label><div class=\"sk-toggleable__content\"><pre>Pipeline(steps=[(&#x27;vect&#x27;, CountVectorizer()), (&#x27;tfidf&#x27;, TfidfTransformer()),\n",
       "                (&#x27;logr&#x27;, LogisticRegression())])</pre></div></div></div><div class=\"sk-serial\"><div class=\"sk-item\"><div class=\"sk-estimator sk-toggleable\"><input class=\"sk-toggleable__control sk-hidden--visually\" id=\"sk-estimator-id-6\" type=\"checkbox\" ><label for=\"sk-estimator-id-6\" class=\"sk-toggleable__label sk-toggleable__label-arrow\">CountVectorizer</label><div class=\"sk-toggleable__content\"><pre>CountVectorizer()</pre></div></div></div><div class=\"sk-item\"><div class=\"sk-estimator sk-toggleable\"><input class=\"sk-toggleable__control sk-hidden--visually\" id=\"sk-estimator-id-7\" type=\"checkbox\" ><label for=\"sk-estimator-id-7\" class=\"sk-toggleable__label sk-toggleable__label-arrow\">TfidfTransformer</label><div class=\"sk-toggleable__content\"><pre>TfidfTransformer()</pre></div></div></div><div class=\"sk-item\"><div class=\"sk-estimator sk-toggleable\"><input class=\"sk-toggleable__control sk-hidden--visually\" id=\"sk-estimator-id-8\" type=\"checkbox\" ><label for=\"sk-estimator-id-8\" class=\"sk-toggleable__label sk-toggleable__label-arrow\">LogisticRegression</label><div class=\"sk-toggleable__content\"><pre>LogisticRegression()</pre></div></div></div></div></div></div></div>"
      ],
      "text/plain": [
       "Pipeline(steps=[('vect', CountVectorizer()), ('tfidf', TfidfTransformer()),\n",
       "                ('logr', LogisticRegression())])"
      ]
     },
     "execution_count": 38,
     "metadata": {},
     "output_type": "execute_result"
    }
   ],
   "source": [
    "text_logr.fit(X_train, y_train)"
   ]
  },
  {
   "cell_type": "code",
   "execution_count": 39,
   "id": "544bb376-01b3-4f73-9a16-89cb0cf0ed8d",
   "metadata": {},
   "outputs": [
    {
     "name": "stdout",
     "output_type": "stream",
     "text": [
      "MAE:\n",
      "Train: 0.030357142857142857\n",
      "Test: 0.14226231783483692\n",
      "\n",
      "RMSE:\n",
      "Train: 0.1742330131092924\n",
      "Test: 0.37717677266082666\n",
      "\n",
      "R²:\n",
      "Train: 0.8785698797178535\n",
      "Test: 0.43082984913585476\n"
     ]
    }
   ],
   "source": [
    "print('MAE:')\n",
    "print('Train:', mean_absolute_error(y_train, text_logr.predict(X_train)))\n",
    "print('Test:', mean_absolute_error(y_test, text_logr.predict(X_test)))\n",
    "print('\\nRMSE:')\n",
    "print('Train:', np.sqrt(mean_squared_error(y_train, text_logr.predict(X_train))))\n",
    "print('Test:', np.sqrt(mean_squared_error(y_test, text_logr.predict(X_test))))\n",
    "print('\\nR²:')\n",
    "logr_score_train = r2_score(y_train, text_logr.predict(X_train))\n",
    "logr_score_test = r2_score(y_test, text_logr.predict(X_test))\n",
    "print('Train:', logr_score_train)\n",
    "print('Test:', logr_score_test)"
   ]
  },
  {
   "cell_type": "markdown",
   "id": "6c825371-c713-4d1a-adbc-6a762a54a7c8",
   "metadata": {},
   "source": [
    "### 3.3. Algoritmo de Naïve Bayes"
   ]
  },
  {
   "cell_type": "code",
   "execution_count": 40,
   "id": "1419a0b3-fb69-45aa-b108-fd72f5265b83",
   "metadata": {},
   "outputs": [],
   "source": [
    "text_nv = Pipeline([\n",
    "    ('vect', CountVectorizer()),\n",
    "    ('tfidf', TfidfTransformer()),\n",
    "    ('nv', MultinomialNB()), ])"
   ]
  },
  {
   "cell_type": "code",
   "execution_count": 41,
   "id": "e8c1b14a-2645-4b3f-867e-9f44c178b344",
   "metadata": {},
   "outputs": [
    {
     "data": {
      "text/html": [
       "<style>#sk-container-id-3 {color: black;background-color: white;}#sk-container-id-3 pre{padding: 0;}#sk-container-id-3 div.sk-toggleable {background-color: white;}#sk-container-id-3 label.sk-toggleable__label {cursor: pointer;display: block;width: 100%;margin-bottom: 0;padding: 0.3em;box-sizing: border-box;text-align: center;}#sk-container-id-3 label.sk-toggleable__label-arrow:before {content: \"▸\";float: left;margin-right: 0.25em;color: #696969;}#sk-container-id-3 label.sk-toggleable__label-arrow:hover:before {color: black;}#sk-container-id-3 div.sk-estimator:hover label.sk-toggleable__label-arrow:before {color: black;}#sk-container-id-3 div.sk-toggleable__content {max-height: 0;max-width: 0;overflow: hidden;text-align: left;background-color: #f0f8ff;}#sk-container-id-3 div.sk-toggleable__content pre {margin: 0.2em;color: black;border-radius: 0.25em;background-color: #f0f8ff;}#sk-container-id-3 input.sk-toggleable__control:checked~div.sk-toggleable__content {max-height: 200px;max-width: 100%;overflow: auto;}#sk-container-id-3 input.sk-toggleable__control:checked~label.sk-toggleable__label-arrow:before {content: \"▾\";}#sk-container-id-3 div.sk-estimator input.sk-toggleable__control:checked~label.sk-toggleable__label {background-color: #d4ebff;}#sk-container-id-3 div.sk-label input.sk-toggleable__control:checked~label.sk-toggleable__label {background-color: #d4ebff;}#sk-container-id-3 input.sk-hidden--visually {border: 0;clip: rect(1px 1px 1px 1px);clip: rect(1px, 1px, 1px, 1px);height: 1px;margin: -1px;overflow: hidden;padding: 0;position: absolute;width: 1px;}#sk-container-id-3 div.sk-estimator {font-family: monospace;background-color: #f0f8ff;border: 1px dotted black;border-radius: 0.25em;box-sizing: border-box;margin-bottom: 0.5em;}#sk-container-id-3 div.sk-estimator:hover {background-color: #d4ebff;}#sk-container-id-3 div.sk-parallel-item::after {content: \"\";width: 100%;border-bottom: 1px solid gray;flex-grow: 1;}#sk-container-id-3 div.sk-label:hover label.sk-toggleable__label {background-color: #d4ebff;}#sk-container-id-3 div.sk-serial::before {content: \"\";position: absolute;border-left: 1px solid gray;box-sizing: border-box;top: 0;bottom: 0;left: 50%;z-index: 0;}#sk-container-id-3 div.sk-serial {display: flex;flex-direction: column;align-items: center;background-color: white;padding-right: 0.2em;padding-left: 0.2em;position: relative;}#sk-container-id-3 div.sk-item {position: relative;z-index: 1;}#sk-container-id-3 div.sk-parallel {display: flex;align-items: stretch;justify-content: center;background-color: white;position: relative;}#sk-container-id-3 div.sk-item::before, #sk-container-id-3 div.sk-parallel-item::before {content: \"\";position: absolute;border-left: 1px solid gray;box-sizing: border-box;top: 0;bottom: 0;left: 50%;z-index: -1;}#sk-container-id-3 div.sk-parallel-item {display: flex;flex-direction: column;z-index: 1;position: relative;background-color: white;}#sk-container-id-3 div.sk-parallel-item:first-child::after {align-self: flex-end;width: 50%;}#sk-container-id-3 div.sk-parallel-item:last-child::after {align-self: flex-start;width: 50%;}#sk-container-id-3 div.sk-parallel-item:only-child::after {width: 0;}#sk-container-id-3 div.sk-dashed-wrapped {border: 1px dashed gray;margin: 0 0.4em 0.5em 0.4em;box-sizing: border-box;padding-bottom: 0.4em;background-color: white;}#sk-container-id-3 div.sk-label label {font-family: monospace;font-weight: bold;display: inline-block;line-height: 1.2em;}#sk-container-id-3 div.sk-label-container {text-align: center;}#sk-container-id-3 div.sk-container {/* jupyter's `normalize.less` sets `[hidden] { display: none; }` but bootstrap.min.css set `[hidden] { display: none !important; }` so we also need the `!important` here to be able to override the default hidden behavior on the sphinx rendered scikit-learn.org. See: https://github.com/scikit-learn/scikit-learn/issues/21755 */display: inline-block !important;position: relative;}#sk-container-id-3 div.sk-text-repr-fallback {display: none;}</style><div id=\"sk-container-id-3\" class=\"sk-top-container\"><div class=\"sk-text-repr-fallback\"><pre>Pipeline(steps=[(&#x27;vect&#x27;, CountVectorizer()), (&#x27;tfidf&#x27;, TfidfTransformer()),\n",
       "                (&#x27;nv&#x27;, MultinomialNB())])</pre><b>In a Jupyter environment, please rerun this cell to show the HTML representation or trust the notebook. <br />On GitHub, the HTML representation is unable to render, please try loading this page with nbviewer.org.</b></div><div class=\"sk-container\" hidden><div class=\"sk-item sk-dashed-wrapped\"><div class=\"sk-label-container\"><div class=\"sk-label sk-toggleable\"><input class=\"sk-toggleable__control sk-hidden--visually\" id=\"sk-estimator-id-9\" type=\"checkbox\" ><label for=\"sk-estimator-id-9\" class=\"sk-toggleable__label sk-toggleable__label-arrow\">Pipeline</label><div class=\"sk-toggleable__content\"><pre>Pipeline(steps=[(&#x27;vect&#x27;, CountVectorizer()), (&#x27;tfidf&#x27;, TfidfTransformer()),\n",
       "                (&#x27;nv&#x27;, MultinomialNB())])</pre></div></div></div><div class=\"sk-serial\"><div class=\"sk-item\"><div class=\"sk-estimator sk-toggleable\"><input class=\"sk-toggleable__control sk-hidden--visually\" id=\"sk-estimator-id-10\" type=\"checkbox\" ><label for=\"sk-estimator-id-10\" class=\"sk-toggleable__label sk-toggleable__label-arrow\">CountVectorizer</label><div class=\"sk-toggleable__content\"><pre>CountVectorizer()</pre></div></div></div><div class=\"sk-item\"><div class=\"sk-estimator sk-toggleable\"><input class=\"sk-toggleable__control sk-hidden--visually\" id=\"sk-estimator-id-11\" type=\"checkbox\" ><label for=\"sk-estimator-id-11\" class=\"sk-toggleable__label sk-toggleable__label-arrow\">TfidfTransformer</label><div class=\"sk-toggleable__content\"><pre>TfidfTransformer()</pre></div></div></div><div class=\"sk-item\"><div class=\"sk-estimator sk-toggleable\"><input class=\"sk-toggleable__control sk-hidden--visually\" id=\"sk-estimator-id-12\" type=\"checkbox\" ><label for=\"sk-estimator-id-12\" class=\"sk-toggleable__label sk-toggleable__label-arrow\">MultinomialNB</label><div class=\"sk-toggleable__content\"><pre>MultinomialNB()</pre></div></div></div></div></div></div></div>"
      ],
      "text/plain": [
       "Pipeline(steps=[('vect', CountVectorizer()), ('tfidf', TfidfTransformer()),\n",
       "                ('nv', MultinomialNB())])"
      ]
     },
     "execution_count": 41,
     "metadata": {},
     "output_type": "execute_result"
    }
   ],
   "source": [
    "text_nv.fit(X_train, y_train)"
   ]
  },
  {
   "cell_type": "code",
   "execution_count": 42,
   "id": "e18aac2a-d177-4517-98f5-c393bdc3cb43",
   "metadata": {},
   "outputs": [],
   "source": [
    "nv_score_train = text_nv.score(X_train, y_train)"
   ]
  },
  {
   "cell_type": "code",
   "execution_count": 43,
   "id": "73f282e4-7ddc-4705-b37e-23c637139d70",
   "metadata": {},
   "outputs": [],
   "source": [
    "nv_score_test = text_nv.score(X_test, y_test)"
   ]
  },
  {
   "cell_type": "code",
   "execution_count": 44,
   "id": "a3e59479-5811-4e35-b3c1-02c484f4548e",
   "metadata": {},
   "outputs": [
    {
     "name": "stdout",
     "output_type": "stream",
     "text": [
      "Score:\n",
      "Train: 0.9797619047619047\n",
      "Test: 0.8362248438584317\n"
     ]
    }
   ],
   "source": [
    "print('Score:')\n",
    "print('Train:', nv_score_train)\n",
    "print('Test:', nv_score_test)"
   ]
  },
  {
   "cell_type": "code",
   "execution_count": 45,
   "id": "8ea8040e-189f-4dcb-8b71-4177babf02a0",
   "metadata": {},
   "outputs": [
    {
     "name": "stdout",
     "output_type": "stream",
     "text": [
      "[1 0]\n"
     ]
    }
   ],
   "source": [
    "docs_new = ['excelente pelicula', 'muy mala']\n",
    "predicted = text_nv.predict(docs_new)\n",
    "print(predicted)"
   ]
  },
  {
   "cell_type": "markdown",
   "id": "57e01e60-7443-4419-9bad-f3a7e5dff0c8",
   "metadata": {},
   "source": [
    "### 3.4. Algoritmo de Support Vector Machines (SVM)"
   ]
  },
  {
   "cell_type": "code",
   "execution_count": 46,
   "id": "1064ca3c-271a-4c0f-885c-a6613cb39ebf",
   "metadata": {},
   "outputs": [],
   "source": [
    "text_svm = Pipeline([\n",
    "    ('vect', CountVectorizer()),\n",
    "    ('tfidf', TfidfTransformer()),\n",
    "    ('svm', SGDClassifier(loss='hinge', penalty='l2', alpha=1e-3, random_state=42, max_iter=5, tol=None)) ])"
   ]
  },
  {
   "cell_type": "code",
   "execution_count": 47,
   "id": "478b02f7-0143-4b1f-bcf1-4a26d180ccf8",
   "metadata": {},
   "outputs": [
    {
     "data": {
      "text/html": [
       "<style>#sk-container-id-4 {color: black;background-color: white;}#sk-container-id-4 pre{padding: 0;}#sk-container-id-4 div.sk-toggleable {background-color: white;}#sk-container-id-4 label.sk-toggleable__label {cursor: pointer;display: block;width: 100%;margin-bottom: 0;padding: 0.3em;box-sizing: border-box;text-align: center;}#sk-container-id-4 label.sk-toggleable__label-arrow:before {content: \"▸\";float: left;margin-right: 0.25em;color: #696969;}#sk-container-id-4 label.sk-toggleable__label-arrow:hover:before {color: black;}#sk-container-id-4 div.sk-estimator:hover label.sk-toggleable__label-arrow:before {color: black;}#sk-container-id-4 div.sk-toggleable__content {max-height: 0;max-width: 0;overflow: hidden;text-align: left;background-color: #f0f8ff;}#sk-container-id-4 div.sk-toggleable__content pre {margin: 0.2em;color: black;border-radius: 0.25em;background-color: #f0f8ff;}#sk-container-id-4 input.sk-toggleable__control:checked~div.sk-toggleable__content {max-height: 200px;max-width: 100%;overflow: auto;}#sk-container-id-4 input.sk-toggleable__control:checked~label.sk-toggleable__label-arrow:before {content: \"▾\";}#sk-container-id-4 div.sk-estimator input.sk-toggleable__control:checked~label.sk-toggleable__label {background-color: #d4ebff;}#sk-container-id-4 div.sk-label input.sk-toggleable__control:checked~label.sk-toggleable__label {background-color: #d4ebff;}#sk-container-id-4 input.sk-hidden--visually {border: 0;clip: rect(1px 1px 1px 1px);clip: rect(1px, 1px, 1px, 1px);height: 1px;margin: -1px;overflow: hidden;padding: 0;position: absolute;width: 1px;}#sk-container-id-4 div.sk-estimator {font-family: monospace;background-color: #f0f8ff;border: 1px dotted black;border-radius: 0.25em;box-sizing: border-box;margin-bottom: 0.5em;}#sk-container-id-4 div.sk-estimator:hover {background-color: #d4ebff;}#sk-container-id-4 div.sk-parallel-item::after {content: \"\";width: 100%;border-bottom: 1px solid gray;flex-grow: 1;}#sk-container-id-4 div.sk-label:hover label.sk-toggleable__label {background-color: #d4ebff;}#sk-container-id-4 div.sk-serial::before {content: \"\";position: absolute;border-left: 1px solid gray;box-sizing: border-box;top: 0;bottom: 0;left: 50%;z-index: 0;}#sk-container-id-4 div.sk-serial {display: flex;flex-direction: column;align-items: center;background-color: white;padding-right: 0.2em;padding-left: 0.2em;position: relative;}#sk-container-id-4 div.sk-item {position: relative;z-index: 1;}#sk-container-id-4 div.sk-parallel {display: flex;align-items: stretch;justify-content: center;background-color: white;position: relative;}#sk-container-id-4 div.sk-item::before, #sk-container-id-4 div.sk-parallel-item::before {content: \"\";position: absolute;border-left: 1px solid gray;box-sizing: border-box;top: 0;bottom: 0;left: 50%;z-index: -1;}#sk-container-id-4 div.sk-parallel-item {display: flex;flex-direction: column;z-index: 1;position: relative;background-color: white;}#sk-container-id-4 div.sk-parallel-item:first-child::after {align-self: flex-end;width: 50%;}#sk-container-id-4 div.sk-parallel-item:last-child::after {align-self: flex-start;width: 50%;}#sk-container-id-4 div.sk-parallel-item:only-child::after {width: 0;}#sk-container-id-4 div.sk-dashed-wrapped {border: 1px dashed gray;margin: 0 0.4em 0.5em 0.4em;box-sizing: border-box;padding-bottom: 0.4em;background-color: white;}#sk-container-id-4 div.sk-label label {font-family: monospace;font-weight: bold;display: inline-block;line-height: 1.2em;}#sk-container-id-4 div.sk-label-container {text-align: center;}#sk-container-id-4 div.sk-container {/* jupyter's `normalize.less` sets `[hidden] { display: none; }` but bootstrap.min.css set `[hidden] { display: none !important; }` so we also need the `!important` here to be able to override the default hidden behavior on the sphinx rendered scikit-learn.org. See: https://github.com/scikit-learn/scikit-learn/issues/21755 */display: inline-block !important;position: relative;}#sk-container-id-4 div.sk-text-repr-fallback {display: none;}</style><div id=\"sk-container-id-4\" class=\"sk-top-container\"><div class=\"sk-text-repr-fallback\"><pre>Pipeline(steps=[(&#x27;vect&#x27;, CountVectorizer()), (&#x27;tfidf&#x27;, TfidfTransformer()),\n",
       "                (&#x27;svm&#x27;,\n",
       "                 SGDClassifier(alpha=0.001, max_iter=5, random_state=42,\n",
       "                               tol=None))])</pre><b>In a Jupyter environment, please rerun this cell to show the HTML representation or trust the notebook. <br />On GitHub, the HTML representation is unable to render, please try loading this page with nbviewer.org.</b></div><div class=\"sk-container\" hidden><div class=\"sk-item sk-dashed-wrapped\"><div class=\"sk-label-container\"><div class=\"sk-label sk-toggleable\"><input class=\"sk-toggleable__control sk-hidden--visually\" id=\"sk-estimator-id-13\" type=\"checkbox\" ><label for=\"sk-estimator-id-13\" class=\"sk-toggleable__label sk-toggleable__label-arrow\">Pipeline</label><div class=\"sk-toggleable__content\"><pre>Pipeline(steps=[(&#x27;vect&#x27;, CountVectorizer()), (&#x27;tfidf&#x27;, TfidfTransformer()),\n",
       "                (&#x27;svm&#x27;,\n",
       "                 SGDClassifier(alpha=0.001, max_iter=5, random_state=42,\n",
       "                               tol=None))])</pre></div></div></div><div class=\"sk-serial\"><div class=\"sk-item\"><div class=\"sk-estimator sk-toggleable\"><input class=\"sk-toggleable__control sk-hidden--visually\" id=\"sk-estimator-id-14\" type=\"checkbox\" ><label for=\"sk-estimator-id-14\" class=\"sk-toggleable__label sk-toggleable__label-arrow\">CountVectorizer</label><div class=\"sk-toggleable__content\"><pre>CountVectorizer()</pre></div></div></div><div class=\"sk-item\"><div class=\"sk-estimator sk-toggleable\"><input class=\"sk-toggleable__control sk-hidden--visually\" id=\"sk-estimator-id-15\" type=\"checkbox\" ><label for=\"sk-estimator-id-15\" class=\"sk-toggleable__label sk-toggleable__label-arrow\">TfidfTransformer</label><div class=\"sk-toggleable__content\"><pre>TfidfTransformer()</pre></div></div></div><div class=\"sk-item\"><div class=\"sk-estimator sk-toggleable\"><input class=\"sk-toggleable__control sk-hidden--visually\" id=\"sk-estimator-id-16\" type=\"checkbox\" ><label for=\"sk-estimator-id-16\" class=\"sk-toggleable__label sk-toggleable__label-arrow\">SGDClassifier</label><div class=\"sk-toggleable__content\"><pre>SGDClassifier(alpha=0.001, max_iter=5, random_state=42, tol=None)</pre></div></div></div></div></div></div></div>"
      ],
      "text/plain": [
       "Pipeline(steps=[('vect', CountVectorizer()), ('tfidf', TfidfTransformer()),\n",
       "                ('svm',\n",
       "                 SGDClassifier(alpha=0.001, max_iter=5, random_state=42,\n",
       "                               tol=None))])"
      ]
     },
     "execution_count": 47,
     "metadata": {},
     "output_type": "execute_result"
    }
   ],
   "source": [
    "text_svm.fit(X_train, y_train)"
   ]
  },
  {
   "cell_type": "code",
   "execution_count": 48,
   "id": "92154238-7e57-45f3-87e3-1ae3629fd1e3",
   "metadata": {},
   "outputs": [],
   "source": [
    "svm_score_train = text_svm.score(X_train, y_train)"
   ]
  },
  {
   "cell_type": "code",
   "execution_count": 49,
   "id": "b5f63262-1d68-4cf3-8749-c2b9a27ac577",
   "metadata": {},
   "outputs": [],
   "source": [
    "svm_score_test = text_svm.score(X_test, y_test)"
   ]
  },
  {
   "cell_type": "code",
   "execution_count": 50,
   "id": "8be8dfa6-d7ca-4f16-b626-4e3057bb082f",
   "metadata": {},
   "outputs": [
    {
     "name": "stdout",
     "output_type": "stream",
     "text": [
      "Score:\n",
      "Train: 0.9380952380952381\n",
      "Test: 0.8396946564885496\n"
     ]
    }
   ],
   "source": [
    "print('Score:')\n",
    "print('Train:', svm_score_train)\n",
    "print('Test:', svm_score_test)"
   ]
  },
  {
   "cell_type": "markdown",
   "id": "cf8d7d2d-d973-4dce-be7f-71dd26358d06",
   "metadata": {},
   "source": [
    "### 3.5. Algoritmo de Random Forrest"
   ]
  },
  {
   "cell_type": "code",
   "execution_count": 51,
   "id": "909f2da9-f576-4021-b13c-a5c551856b03",
   "metadata": {},
   "outputs": [],
   "source": [
    "text_rf = Pipeline([\n",
    "    ('vect', CountVectorizer()),\n",
    "    ('tfidf', TfidfTransformer()),\n",
    "    ('rf', RandomForestClassifier()), ])"
   ]
  },
  {
   "cell_type": "code",
   "execution_count": 52,
   "id": "79e0d31c-a708-451e-bfa1-0d0ce32fdd37",
   "metadata": {},
   "outputs": [
    {
     "data": {
      "text/html": [
       "<style>#sk-container-id-5 {color: black;background-color: white;}#sk-container-id-5 pre{padding: 0;}#sk-container-id-5 div.sk-toggleable {background-color: white;}#sk-container-id-5 label.sk-toggleable__label {cursor: pointer;display: block;width: 100%;margin-bottom: 0;padding: 0.3em;box-sizing: border-box;text-align: center;}#sk-container-id-5 label.sk-toggleable__label-arrow:before {content: \"▸\";float: left;margin-right: 0.25em;color: #696969;}#sk-container-id-5 label.sk-toggleable__label-arrow:hover:before {color: black;}#sk-container-id-5 div.sk-estimator:hover label.sk-toggleable__label-arrow:before {color: black;}#sk-container-id-5 div.sk-toggleable__content {max-height: 0;max-width: 0;overflow: hidden;text-align: left;background-color: #f0f8ff;}#sk-container-id-5 div.sk-toggleable__content pre {margin: 0.2em;color: black;border-radius: 0.25em;background-color: #f0f8ff;}#sk-container-id-5 input.sk-toggleable__control:checked~div.sk-toggleable__content {max-height: 200px;max-width: 100%;overflow: auto;}#sk-container-id-5 input.sk-toggleable__control:checked~label.sk-toggleable__label-arrow:before {content: \"▾\";}#sk-container-id-5 div.sk-estimator input.sk-toggleable__control:checked~label.sk-toggleable__label {background-color: #d4ebff;}#sk-container-id-5 div.sk-label input.sk-toggleable__control:checked~label.sk-toggleable__label {background-color: #d4ebff;}#sk-container-id-5 input.sk-hidden--visually {border: 0;clip: rect(1px 1px 1px 1px);clip: rect(1px, 1px, 1px, 1px);height: 1px;margin: -1px;overflow: hidden;padding: 0;position: absolute;width: 1px;}#sk-container-id-5 div.sk-estimator {font-family: monospace;background-color: #f0f8ff;border: 1px dotted black;border-radius: 0.25em;box-sizing: border-box;margin-bottom: 0.5em;}#sk-container-id-5 div.sk-estimator:hover {background-color: #d4ebff;}#sk-container-id-5 div.sk-parallel-item::after {content: \"\";width: 100%;border-bottom: 1px solid gray;flex-grow: 1;}#sk-container-id-5 div.sk-label:hover label.sk-toggleable__label {background-color: #d4ebff;}#sk-container-id-5 div.sk-serial::before {content: \"\";position: absolute;border-left: 1px solid gray;box-sizing: border-box;top: 0;bottom: 0;left: 50%;z-index: 0;}#sk-container-id-5 div.sk-serial {display: flex;flex-direction: column;align-items: center;background-color: white;padding-right: 0.2em;padding-left: 0.2em;position: relative;}#sk-container-id-5 div.sk-item {position: relative;z-index: 1;}#sk-container-id-5 div.sk-parallel {display: flex;align-items: stretch;justify-content: center;background-color: white;position: relative;}#sk-container-id-5 div.sk-item::before, #sk-container-id-5 div.sk-parallel-item::before {content: \"\";position: absolute;border-left: 1px solid gray;box-sizing: border-box;top: 0;bottom: 0;left: 50%;z-index: -1;}#sk-container-id-5 div.sk-parallel-item {display: flex;flex-direction: column;z-index: 1;position: relative;background-color: white;}#sk-container-id-5 div.sk-parallel-item:first-child::after {align-self: flex-end;width: 50%;}#sk-container-id-5 div.sk-parallel-item:last-child::after {align-self: flex-start;width: 50%;}#sk-container-id-5 div.sk-parallel-item:only-child::after {width: 0;}#sk-container-id-5 div.sk-dashed-wrapped {border: 1px dashed gray;margin: 0 0.4em 0.5em 0.4em;box-sizing: border-box;padding-bottom: 0.4em;background-color: white;}#sk-container-id-5 div.sk-label label {font-family: monospace;font-weight: bold;display: inline-block;line-height: 1.2em;}#sk-container-id-5 div.sk-label-container {text-align: center;}#sk-container-id-5 div.sk-container {/* jupyter's `normalize.less` sets `[hidden] { display: none; }` but bootstrap.min.css set `[hidden] { display: none !important; }` so we also need the `!important` here to be able to override the default hidden behavior on the sphinx rendered scikit-learn.org. See: https://github.com/scikit-learn/scikit-learn/issues/21755 */display: inline-block !important;position: relative;}#sk-container-id-5 div.sk-text-repr-fallback {display: none;}</style><div id=\"sk-container-id-5\" class=\"sk-top-container\"><div class=\"sk-text-repr-fallback\"><pre>Pipeline(steps=[(&#x27;vect&#x27;, CountVectorizer()), (&#x27;tfidf&#x27;, TfidfTransformer()),\n",
       "                (&#x27;rf&#x27;, RandomForestClassifier())])</pre><b>In a Jupyter environment, please rerun this cell to show the HTML representation or trust the notebook. <br />On GitHub, the HTML representation is unable to render, please try loading this page with nbviewer.org.</b></div><div class=\"sk-container\" hidden><div class=\"sk-item sk-dashed-wrapped\"><div class=\"sk-label-container\"><div class=\"sk-label sk-toggleable\"><input class=\"sk-toggleable__control sk-hidden--visually\" id=\"sk-estimator-id-17\" type=\"checkbox\" ><label for=\"sk-estimator-id-17\" class=\"sk-toggleable__label sk-toggleable__label-arrow\">Pipeline</label><div class=\"sk-toggleable__content\"><pre>Pipeline(steps=[(&#x27;vect&#x27;, CountVectorizer()), (&#x27;tfidf&#x27;, TfidfTransformer()),\n",
       "                (&#x27;rf&#x27;, RandomForestClassifier())])</pre></div></div></div><div class=\"sk-serial\"><div class=\"sk-item\"><div class=\"sk-estimator sk-toggleable\"><input class=\"sk-toggleable__control sk-hidden--visually\" id=\"sk-estimator-id-18\" type=\"checkbox\" ><label for=\"sk-estimator-id-18\" class=\"sk-toggleable__label sk-toggleable__label-arrow\">CountVectorizer</label><div class=\"sk-toggleable__content\"><pre>CountVectorizer()</pre></div></div></div><div class=\"sk-item\"><div class=\"sk-estimator sk-toggleable\"><input class=\"sk-toggleable__control sk-hidden--visually\" id=\"sk-estimator-id-19\" type=\"checkbox\" ><label for=\"sk-estimator-id-19\" class=\"sk-toggleable__label sk-toggleable__label-arrow\">TfidfTransformer</label><div class=\"sk-toggleable__content\"><pre>TfidfTransformer()</pre></div></div></div><div class=\"sk-item\"><div class=\"sk-estimator sk-toggleable\"><input class=\"sk-toggleable__control sk-hidden--visually\" id=\"sk-estimator-id-20\" type=\"checkbox\" ><label for=\"sk-estimator-id-20\" class=\"sk-toggleable__label sk-toggleable__label-arrow\">RandomForestClassifier</label><div class=\"sk-toggleable__content\"><pre>RandomForestClassifier()</pre></div></div></div></div></div></div></div>"
      ],
      "text/plain": [
       "Pipeline(steps=[('vect', CountVectorizer()), ('tfidf', TfidfTransformer()),\n",
       "                ('rf', RandomForestClassifier())])"
      ]
     },
     "execution_count": 52,
     "metadata": {},
     "output_type": "execute_result"
    }
   ],
   "source": [
    "text_rf.fit(X_train, y_train)"
   ]
  },
  {
   "cell_type": "code",
   "execution_count": 53,
   "id": "d4a9ec0d-b174-4f83-b299-7932460539e8",
   "metadata": {},
   "outputs": [],
   "source": [
    "rf_score_train = text_rf.score(X_train, y_train)"
   ]
  },
  {
   "cell_type": "code",
   "execution_count": 54,
   "id": "8de1af8b-9949-43ce-a31a-531fd4c4b289",
   "metadata": {},
   "outputs": [],
   "source": [
    "rf_score_test = text_rf.score(X_test, y_test)"
   ]
  },
  {
   "cell_type": "code",
   "execution_count": 55,
   "id": "856750aa-fa5d-4c02-a0aa-d26b5e0f2d04",
   "metadata": {},
   "outputs": [
    {
     "name": "stdout",
     "output_type": "stream",
     "text": [
      "Score:\n",
      "Train: 1.0\n",
      "Test: 0.8195697432338653\n"
     ]
    }
   ],
   "source": [
    "print('Score:')\n",
    "print('Train:', rf_score_train)\n",
    "print('Test:', rf_score_test)"
   ]
  },
  {
   "cell_type": "markdown",
   "id": "cb167ea5-158a-4f76-97e7-c101819fdd60",
   "metadata": {},
   "source": [
    "### 3.2. Evaluación de los modelos obtenidos"
   ]
  },
  {
   "cell_type": "markdown",
   "id": "056e858a-d2ef-4617-83d7-bac73e844de4",
   "metadata": {},
   "source": [
    "#### 3.2.1. Algoritmos de Regresión (Lineal y Logística)\n",
    "Para el algoritmo de Regresión Lineal Simple obtuvimos para el conjunto de datos de entrenamiento un R² de 0.9999 y para el conjunto de datos de prueba uno de 0.4449. Mientras que para el algoritmo de Regresión Logística obtuvimos para el conjunto de datos de entrenamiento un R² de 0.8785 y para el conjunto de datos de prueba uno de 0.4308. Podemos evidenciar que hay una gran diferencia en el indicador de ambos conjuntos de datos y el rendimiento objetivo de las pruebas no es satisfactorio. Por lo tanto el modelo está sobre ajustado, lo cual se debe a que el modelo está tan ajustado al conjunto de datos de entrenamiento que al momento de generalizar con los datos de prueba no se obtiene el rendimiento esperado. Este algoritmo no fue capaz de obtener patrones de los datos de entrenamiento con el fin de predecir correctamente datos nuevos, es decir, el modelo no es extrapolable a datos de prueba."
   ]
  },
  {
   "cell_type": "markdown",
   "id": "872820c7-25b1-49c8-a4a9-45f8b9e56f33",
   "metadata": {},
   "source": [
    "#### 3.2.2. Algoritmo de Naïve Bayes\n",
    "Para el algoritmo de Naïve Bayes obtuvimos un accuracy score de 0.9798 y 0.8362 para los datos de entrenamiento y de prueba, respectivamente. A partir de lo anterior se puede concluir que el modelo tiene un buen rendimiento, debido a que el indicador sobre el conjunto de test está entre los más altos de todos los algoritmos implementados y no hay una gran diferencia entre los indicadores de ambos conjuntos de datos (existe un buen ajuste). Esto se debe a que el tamaño de los datos y la naturaleza del algoritmo son ideales para que el modelo aprenda y pueda extrapolarse de una manera correcta. Adicionalmente, este algoritmo se basa en calcular la probabilidad condicional de que ocurra un evento dado que se sabe que otro evento ha ocurrido."
   ]
  },
  {
   "cell_type": "markdown",
   "id": "1e4125ea-2cb2-417f-8298-2f4e4e9426cd",
   "metadata": {},
   "source": [
    "#### 3.2.3. Algoritmo de Support Vector Machines (SVM)\n",
    "Para el algoritmo de Support Vector Machines (SVM) obtuvimos un accuracy score de 0.9398 y 0.8396 para los datos de entrenamiento y de prueba, respectivamente. A partir de lo anterior podemos concluir que este algoritmo es el que mejor rendimiento tiene de los 5 realizados. La diferencia entre el indicador en los datos de entrenamiento y el de los datos de prueba es muy pequeña, lo cual se debe a que este algoritmo optimiza las entradas para maximizar los resultados de la solución óptima. Adicionalmente, al igual que el algoritmo anterior éste destaca con un conjunto de datos pequeño."
   ]
  },
  {
   "cell_type": "markdown",
   "id": "5730b966-07b7-4df0-a466-035854127fbd",
   "metadata": {},
   "source": [
    "#### 3.2.4. Algoritmo de Random Forest\n",
    "Para el algoritmo de Random Forest obtuvimos un accuracy score de 1.0 para el conjunto de datos de entrenamiento y de 0.8223 para el de prueba. Este algorítmo, a pesar de contar con un buen rendimiento en cuanto a la exactitud, es posible que el modelo obtenido esté un poco sobreajustado, debido a la diferencia entre los datos de entrenamiento y el de prueba. Dicho esto podemos concluir que este algoritmo funciona muy bien para clasificar nuevas entradas, puesto que combina múltiples árboles de decisión individuales para mejorar la precisión general del modelo. Además, maneja conjunto de datos con diferentes características."
   ]
  },
  {
   "cell_type": "markdown",
   "id": "7bd23b50-92a8-466a-b11c-c71af8dbea7b",
   "metadata": {},
   "source": [
    "Se procederá a crear una figura con la representación gráfica de los resultados obtenidos para cada algoritmo:"
   ]
  },
  {
   "cell_type": "code",
   "execution_count": 56,
   "id": "9e0c2de3-3abb-4927-849a-309a169a2a8c",
   "metadata": {},
   "outputs": [],
   "source": [
    "Algorithm = ['Regresión Lineal', 'Regresión Lineal', 'Regresión Logística', 'Regresión Logística', 'Naïve Bayes', 'Naïve Bayes', 'SVM', 'SVM', 'Random Forrest', 'Random Forrest']"
   ]
  },
  {
   "cell_type": "code",
   "execution_count": 57,
   "id": "5c1af756-f46a-433c-a6ac-909f8f97b54d",
   "metadata": {},
   "outputs": [],
   "source": [
    "Data_Set = ['Train', 'Test', 'Train', 'Test', 'Train', 'Test', 'Train', 'Test', 'Train', 'Test']"
   ]
  },
  {
   "cell_type": "code",
   "execution_count": 58,
   "id": "ea3aff8f-26b0-4da6-bc7b-3eff240c811b",
   "metadata": {},
   "outputs": [],
   "source": [
    "Score = [lr_score_train, lr_score_test, logr_score_train, logr_score_test, nv_score_train, nv_score_test, svm_score_train, svm_score_test, rf_score_train, rf_score_test]"
   ]
  },
  {
   "cell_type": "code",
   "execution_count": 59,
   "id": "6f64028d-838f-4b5c-b20d-785e33c444f5",
   "metadata": {},
   "outputs": [],
   "source": [
    "l = []\n",
    "for i in range (0, 10):\n",
    "    l.append([Algorithm[i], Data_Set[i], Score[i]])"
   ]
  },
  {
   "cell_type": "code",
   "execution_count": 60,
   "id": "b9bd01b9-ca98-490a-b26d-1a9d85913a7b",
   "metadata": {},
   "outputs": [],
   "source": [
    "df = pd.DataFrame(l, columns=['Algorithm', 'Data_Set', 'Score'])\n"
   ]
  },
  {
   "cell_type": "code",
   "execution_count": 61,
   "id": "b6de92fd-2009-468b-a1f5-cca763660f8e",
   "metadata": {},
   "outputs": [
    {
     "data": {
      "text/plain": [
       "<seaborn.axisgrid.FacetGrid at 0x7fc36d943fa0>"
      ]
     },
     "execution_count": 61,
     "metadata": {},
     "output_type": "execute_result"
    },
    {
     "data": {
      "image/png": "[encoded data removed]",
      "text/plain": [
       "<Figure size 1089.12x500 with 1 Axes>"
      ]
     },
     "metadata": {},
     "output_type": "display_data"
    }
   ],
   "source": [
    "sns.catplot(data=df, x='Algorithm', y='Score', hue='Data_Set', kind=\"swarm\", height=5, aspect=10/5, s = 100)"
   ]
  },
  {
   "cell_type": "markdown",
   "id": "c0ebd8a6-cd5d-4a24-b4b4-a656f02cf552",
   "metadata": {},
   "source": [
    "Como se observa en la figura, mientras que los algoritmos de regresión cuentan con una diferencia significativa entre los datos de prueba y de test (sobreajuste) y un score significativamente bajo (baja exactitud), los algoritmos de clasificación, cuentan con un buen nivel de ajuste y una exactitud similar. El algoritmo de Support Vector Machines es el que cuenta con un mejor ajuste y una mayor exactitud, por esta razón se recomienda el uso de este algoritmo bajo las condiciones actuales del proyecto y los datos."
   ]
  },
  {
   "cell_type": "markdown",
   "id": "9e1f0633-6675-4ca6-90a2-7dcb59a78714",
   "metadata": {},
   "source": [
    "### 4. Conclusiones\n",
    "\n",
    "En conclusión, en cuanto a los algoritmos de regresión podemos decir que no son los más adecuados para darle solución a la problemática planteada, puesto que no son generalizables a los datos de prueba. Esto se debe a que, estos modelos se ajustan mucho a los datos iniciales, basándose en tendencias no generales, que a la hora de predecir con nuevos datos no podrán relacionarlos por lo que su predicción se basa en patrones no generalizados del conjunto de entrenamiento y es incapaz de extrapolar al conjunto de prueba.\n",
    "\n",
    "Ahora bien, podemos concluir que el mejor algoritmo para la problemática planteada es el de Support Vector Machines (SVM), debido a que en él se optimizan las entradas para poder maximizar los resultados de la solución óptima y es el que presenta el mejor nivel de ajuste entre los datos de prueba y de entrenamiento. En la implementación de estr algoritmo, el modelo encuentra patrones generalizables a todo el conjunto de datos por lo cual la exactitud es la mayor entre los modelos implementados. \n",
    "\n",
    "A partir de la utilización del modelo obtenido con este algoritmo, las organizaciones relacionadas con la industria cinematográfica podrán cuantificar y generar valor a partir de uno de los elementos más significativos de esta industria: las reseñas. El modelo obtenido contó con excelentes métricas de rendimiento y ajuste, convirtiéndolo en una oportunidad inigualable para apoyar decisiones futuras del negocio, tales como recomendaciones de material cinematográfico personalizadas y el desarrollo de material perfilado a los clientes.\n"
   ]
  },
  {
   "cell_type": "code",
   "execution_count": null,
   "id": "de652df7-ad06-4070-8229-5f847badf41e",
   "metadata": {},
   "outputs": [],
   "source": []
  }
 ],
 "metadata": {
  "kernelspec": {
   "display_name": "Python 3 (ipykernel)",
   "language": "python",
   "name": "python3"
  },
  "language_info": {
   "codemirror_mode": {
    "name": "ipython",
    "version": 3
   },
   "file_extension": ".py",
   "mimetype": "text/x-python",
   "name": "python",
   "nbconvert_exporter": "python",
   "pygments_lexer": "ipython3",
   "version": "3.10.9"
  }
 },
 "nbformat": 4,
 "nbformat_minor": 5
}
